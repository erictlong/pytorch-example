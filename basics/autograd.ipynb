{
 "cells": [
  {
   "attachments": {},
   "cell_type": "markdown",
   "metadata": {},
   "source": [
    "# Automatic Differentiation with Autograd\n",
    "\n",
    "When training nn, the most frequiently used algorithm is back progation. \n",
    "\n",
    "In this algorithm, parameters (model weights) are adjusted according to the gradient of the loss function with respect to the given parameter.\n",
    "\n",
    "To compute those gradients, pytorch has a built in differentiation engine called autograd. It supports automatic computation of gradient for any computational graph.\n",
    "\n",
    "Consider the simplest one layer nn, with input x, parameters w and b, and some loss function."
   ]
  },
  {
   "cell_type": "code",
   "execution_count": 1,
   "metadata": {},
   "outputs": [],
   "source": [
    "import torch"
   ]
  },
  {
   "cell_type": "code",
   "execution_count": 2,
   "metadata": {},
   "outputs": [],
   "source": [
    "x = torch.ones(5) # input tensor\n",
    "y = torch.zeros(3) # expected output\n",
    "w = torch.randn(5, 3, requires_grad=True)\n",
    "b = torch.randn(3, requires_grad=True)\n",
    "z = torch.matmul(x, w)+b\n",
    "\n",
    "loss = torch.nn.functional.binary_cross_entropy_with_logits(z, y)"
   ]
  },
  {
   "attachments": {},
   "cell_type": "markdown",
   "metadata": {},
   "source": [
    "## Tensors, functions and computational graph\n",
    "\n",
    "This code defines the following computational graph:\n",
    "\n",
    "In this network, w and b are parameters, which we need to optimize. Thus we need to be able to compute the gradients of loss function with respect to those variables. To order to do that, we set the requires_grad property of those tensors"
   ]
  },
  {
   "attachments": {},
   "cell_type": "markdown",
   "metadata": {},
   "source": [
    "A function that we apply to tensors to construct computational graph is in fact an object of class function. This object knows how to compute the function in the forward direction, and also how to compute its derivative during the backward propagation step.\n",
    "\n",
    "A reference to the backward propagation function is stored is grad_fn property of a tensor. "
   ]
  },
  {
   "cell_type": "code",
   "execution_count": 3,
   "metadata": {},
   "outputs": [
    {
     "name": "stdout",
     "output_type": "stream",
     "text": [
      "Graient function for z = <AddBackward0 object at 0x109a08130>\n",
      "Gradient function for loss = <BinaryCrossEntropyWithLogitsBackward0 object at 0x109a084f0>\n"
     ]
    }
   ],
   "source": [
    "print(f\"Graient function for z = {z.grad_fn}\")\n",
    "print(f\"Gradient function for loss = {loss.grad_fn}\")"
   ]
  },
  {
   "attachments": {},
   "cell_type": "markdown",
   "metadata": {},
   "source": [
    "## Computing Gradients\n",
    "\n",
    "To optimize weights of parameters in the neural network, we need to compute the derivatives of our loss function with respect to parameters, namely, we need under some fixed values of x and y. To compute those derivatives, we call loss.backward(), and then retrieve the values from w.grad and b.grad"
   ]
  },
  {
   "attachments": {},
   "cell_type": "markdown",
   "metadata": {},
   "source": [
    "- We can only obtain the grad properties for the leaf nodes of the computational graph, which have requires_grad property set to true. For all other nodes in our graph, gradients will not be available\n",
    "\n",
    "- We can only perform gradient calculations using backward once on a given graph, for performance reasons. If we need to do several backward calls on the same graph, we need to pass retain-graph=true to the backward call"
   ]
  },
  {
   "cell_type": "code",
   "execution_count": 4,
   "metadata": {},
   "outputs": [
    {
     "name": "stdout",
     "output_type": "stream",
     "text": [
      "tensor([[0.3169, 0.0088, 0.3204],\n",
      "        [0.3169, 0.0088, 0.3204],\n",
      "        [0.3169, 0.0088, 0.3204],\n",
      "        [0.3169, 0.0088, 0.3204],\n",
      "        [0.3169, 0.0088, 0.3204]])\n",
      "tensor([0.3169, 0.0088, 0.3204])\n"
     ]
    }
   ],
   "source": [
    "loss.backward()\n",
    "print(w.grad)\n",
    "print(b.grad)"
   ]
  },
  {
   "attachments": {},
   "cell_type": "markdown",
   "metadata": {},
   "source": [
    "## Disabling Gradient Tracking\n",
    "\n",
    "By default, all tensors with requires_grad=true are tracking their computational history and support gradient computation. However, there are some cases when we do not need to do that, for example, when we have trained the model and just want to apply it to some input data, ie we only want to do forward computations through the network.\n",
    "\n",
    "We can stop tracking computations by surrounding our computation code with torch.no_grad block"
   ]
  },
  {
   "cell_type": "code",
   "execution_count": 5,
   "metadata": {},
   "outputs": [
    {
     "name": "stdout",
     "output_type": "stream",
     "text": [
      "True\n"
     ]
    }
   ],
   "source": [
    "z = torch.matmul(x, w)+b\n",
    "print(z.requires_grad)"
   ]
  },
  {
   "cell_type": "code",
   "execution_count": 6,
   "metadata": {},
   "outputs": [
    {
     "name": "stdout",
     "output_type": "stream",
     "text": [
      "False\n"
     ]
    }
   ],
   "source": [
    "with torch.no_grad():\n",
    "    z = torch.matmul(x, w)+b\n",
    "print(z.requires_grad)"
   ]
  },
  {
   "attachments": {},
   "cell_type": "markdown",
   "metadata": {},
   "source": [
    "To achieve the same result is to use the detach method on the tensor"
   ]
  },
  {
   "cell_type": "code",
   "execution_count": 7,
   "metadata": {},
   "outputs": [
    {
     "name": "stdout",
     "output_type": "stream",
     "text": [
      "False\n"
     ]
    }
   ],
   "source": [
    "z = torch.matmul(x, w)+b\n",
    "z_det = z.detach()\n",
    "print(z_det.requires_grad)"
   ]
  },
  {
   "attachments": {},
   "cell_type": "markdown",
   "metadata": {},
   "source": [
    "There are resaosn you might want to disable gradient tracking:\n",
    "- to mark some parameters in your nn as forzen parameters\n",
    "- to speed up computations when you are only doing forward pass, because computations on tensors that do not track gradients would be more efficient"
   ]
  },
  {
   "attachments": {},
   "cell_type": "markdown",
   "metadata": {},
   "source": [
    "## More on Computational Graph\n",
    "\n",
    "Conceptually, autograd keeps a record of data (tensors) and all executed operations (along with the resulting new tensors) in directed acyclic graph (DAG) consisting of function objects. \n",
    "\n",
    "In DAG, leaves are the input tensors, roots are the output tensors. By tracing this graph from roots to leave, you can automatically compute the gradients using the chain rule."
   ]
  },
  {
   "attachments": {},
   "cell_type": "markdown",
   "metadata": {},
   "source": [
    "In a fordward pass, autograd does two things simultaneously:\n",
    "- run the requested operation to compute a resulting tensor\n",
    "- maintain the operation gradient function in the DAG"
   ]
  },
  {
   "attachments": {},
   "cell_type": "markdown",
   "metadata": {},
   "source": [
    "The backward pass kicks off when .backward is called on the DAG root autogra then:\n",
    "- computes the graident from each .grad_fn\n",
    "- accumulates them in the respective tensor .grad attribute\n",
    "- using the chain rule, propagates all the way to the leaf tensors\n",
    "\n",
    "DAGS are dynamic in pytorch important thing to note is that the graph is recreated from scratch"
   ]
  },
  {
   "attachments": {},
   "cell_type": "markdown",
   "metadata": {},
   "source": [
    "## Tensor Gradients and Jacobian Products\n",
    "\n",
    "In many cases, we have scalar loss function, and we need to compute the gradient with respect to some parameters. However, there are cases when the output function is arbitraty tensor. \n",
    "\n",
    "Pytorch allows you to compute so called jacobian product, and not the actual gradient\n"
   ]
  },
  {
   "attachments": {},
   "cell_type": "markdown",
   "metadata": {},
   "source": [
    "Instead of computing the jacobian matric itself, pytorch allows you to compute jacobian product for a given input vector. This is achieved by calling backward with v as the argument. The size of v should v the same as the size of the orginal tensor, with respect to which we want to compute the product:"
   ]
  },
  {
   "cell_type": "code",
   "execution_count": 8,
   "metadata": {},
   "outputs": [
    {
     "name": "stdout",
     "output_type": "stream",
     "text": [
      "Frint call\n",
      "tensor([[4., 2., 2., 2., 2.],\n",
      "        [2., 4., 2., 2., 2.],\n",
      "        [2., 2., 4., 2., 2.],\n",
      "        [2., 2., 2., 4., 2.]])\n",
      "\n",
      "Second call\n",
      "tensor([[8., 4., 4., 4., 4.],\n",
      "        [4., 8., 4., 4., 4.],\n",
      "        [4., 4., 8., 4., 4.],\n",
      "        [4., 4., 4., 8., 4.]])\n",
      "\n",
      "Call after zeroing gradients\n",
      "tensor([[4., 2., 2., 2., 2.],\n",
      "        [2., 4., 2., 2., 2.],\n",
      "        [2., 2., 4., 2., 2.],\n",
      "        [2., 2., 2., 4., 2.]])\n"
     ]
    }
   ],
   "source": [
    "inp = torch.eye(4, 5, requires_grad=True)\n",
    "out = (inp+1).pow(2).t()\n",
    "out.backward(torch.ones_like(out), retain_graph=True)\n",
    "print(f\"Frint call\\n{inp.grad}\")\n",
    "out.backward(torch.ones_like(out), retain_graph=True)\n",
    "print(f\"\\nSecond call\\n{inp.grad}\")\n",
    "inp.grad.zero_()\n",
    "out.backward(torch.ones_like(out), retain_graph=True)\n",
    "print(f\"\\nCall after zeroing gradients\\n{inp.grad}\")"
   ]
  },
  {
   "attachments": {},
   "cell_type": "markdown",
   "metadata": {},
   "source": [
    "Notice that when backward for the second time with the same argument, the value of the gradient is different. This happens because when doing backward propagation, pytroch accumulates the gradients, ie the value of computed gradients is added to the grad property of all leaf nodes of computational graph\n",
    "\n",
    "If you want to compute the proper gradients, you need to zero out the grad property before. In real-life training an optimizer helps us to do this"
   ]
  }
 ],
 "metadata": {
  "kernelspec": {
   "display_name": "venv-metal",
   "language": "python",
   "name": "python3"
  },
  "language_info": {
   "codemirror_mode": {
    "name": "ipython",
    "version": 3
   },
   "file_extension": ".py",
   "mimetype": "text/x-python",
   "name": "python",
   "nbconvert_exporter": "python",
   "pygments_lexer": "ipython3",
   "version": "3.9.6"
  },
  "orig_nbformat": 4
 },
 "nbformat": 4,
 "nbformat_minor": 2
}
