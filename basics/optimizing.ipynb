{
 "cells": [
  {
   "attachments": {},
   "cell_type": "markdown",
   "metadata": {},
   "source": [
    "# Optimizing Model Parameters\n",
    "\n",
    "Now that we have a model and data its time to train, validate and test our model by optimizing its parameters on our data. Training a model is an iterative process; in each iteration the model makes a guess about the output, calculates the error in its guess (loss), collects the derivatives of the error with respect to its parameters, an optimizes these parameters using gradient descent"
   ]
  },
  {
   "cell_type": "code",
   "execution_count": 1,
   "metadata": {},
   "outputs": [],
   "source": [
    "import torch\n",
    "from torch import nn\n",
    "from torch.utils.data import DataLoader\n",
    "from torchvision import datasets\n",
    "from torchvision.transforms import ToTensor"
   ]
  },
  {
   "cell_type": "code",
   "execution_count": 2,
   "metadata": {},
   "outputs": [],
   "source": [
    "training_data = datasets.FashionMNIST(\n",
    "    root=\"data\",\n",
    "    train=True,\n",
    "    download=False,\n",
    "    transform=ToTensor()\n",
    ")\n",
    "\n",
    "test_data = datasets.FashionMNIST(\n",
    "    root=\"data\",\n",
    "    train=False,\n",
    "    download=False,\n",
    "    transform=ToTensor()\n",
    ")"
   ]
  },
  {
   "cell_type": "code",
   "execution_count": 3,
   "metadata": {},
   "outputs": [],
   "source": [
    "train_dataloader = DataLoader(training_data, batch_size=64)\n",
    "test_dataloader = DataLoader(test_data, batch_size=64)"
   ]
  },
  {
   "cell_type": "code",
   "execution_count": 4,
   "metadata": {},
   "outputs": [],
   "source": [
    "class NeuralNetwork(nn.Module):\n",
    "    def __init__(self):\n",
    "        super().__init__()\n",
    "        self.flatten = nn.Flatten()\n",
    "        self.linear_relu_stack = nn.Sequential(\n",
    "            nn.Linear(28*28, 512),\n",
    "            nn.ReLU(),\n",
    "            nn.Linear(512, 512),\n",
    "            nn.ReLU(),\n",
    "            nn.Linear(512, 10),\n",
    "        )\n",
    "\n",
    "    def forward(self, x):\n",
    "        x = self.flatten(x)\n",
    "        logits = self.linear_relu_stack(x)\n",
    "        return logits\n",
    "\n",
    "model = NeuralNetwork()"
   ]
  },
  {
   "cell_type": "code",
   "execution_count": 5,
   "metadata": {},
   "outputs": [
    {
     "name": "stdout",
     "output_type": "stream",
     "text": [
      "NeuralNetwork(\n",
      "  (flatten): Flatten(start_dim=1, end_dim=-1)\n",
      "  (linear_relu_stack): Sequential(\n",
      "    (0): Linear(in_features=784, out_features=512, bias=True)\n",
      "    (1): ReLU()\n",
      "    (2): Linear(in_features=512, out_features=512, bias=True)\n",
      "    (3): ReLU()\n",
      "    (4): Linear(in_features=512, out_features=10, bias=True)\n",
      "  )\n",
      ")\n"
     ]
    }
   ],
   "source": [
    "print(model)"
   ]
  },
  {
   "attachments": {},
   "cell_type": "markdown",
   "metadata": {},
   "source": [
    "## Hyperparameters\n",
    "\n",
    "Hyperparameters are adustable parameters that let you control the model optimization process.\n",
    "\n",
    "Differnt hyperparameters values can impact model training and convergence rate. We define the following hyperparameters for training:\n",
    "- Number of epochs - numbe rof times to iterate over the dataset\n",
    "- batch size - the number of data samples propagated though the network before the parameters are updated\n",
    "- Learning rate - how much to update models parameters at each batch/epoch. Smaller values yield slow learning speed, while large value may result in unpredictable behavior training"
   ]
  },
  {
   "cell_type": "code",
   "execution_count": 6,
   "metadata": {},
   "outputs": [],
   "source": [
    "learning_rate = 1e-3\n",
    "batch_size = 64\n",
    "epochs = 5"
   ]
  },
  {
   "attachments": {},
   "cell_type": "markdown",
   "metadata": {},
   "source": [
    "## Optimization loop\n",
    "\n",
    "Once we set our hyperparameters, we can then train and optimize our model with an optimization loop. Each iteration of the optimization loop is called an epoch.\n",
    "\n",
    "Each epoch consists of two main parts:\n",
    "- the train loop - iterate over the training dataset and try to converge to optimal parameters.\n",
    "- the validation / test loop iterate over the test dataset to check if model performance is imporoving"
   ]
  },
  {
   "attachments": {},
   "cell_type": "markdown",
   "metadata": {},
   "source": [
    "## Loos Function\n",
    "\n",
    "When presented with some training data, our untrained network is likely not to give the correct answer. Looss function measures the degree of dissimilarity of obtrained result to the target value, and it is the loss function that we want to minimize during training.\n",
    "\n",
    "To calculate the loss we make a prediction using the inputs of our given data sample and compare it against the true data label value."
   ]
  },
  {
   "cell_type": "code",
   "execution_count": 7,
   "metadata": {},
   "outputs": [],
   "source": [
    "loss_fn = nn.CrossEntropyLoss() #note many others like nn.MSELoss, nnNLLLoss, etc"
   ]
  },
  {
   "attachments": {},
   "cell_type": "markdown",
   "metadata": {},
   "source": [
    "## Optimizer \n",
    "\n",
    "Optimization is the process of adjusting model parameters to reduce model error in each training step. Optimization algorithms define how this process is performed. All optimization logic is encapsulated in the optimizer object."
   ]
  },
  {
   "attachments": {},
   "cell_type": "markdown",
   "metadata": {},
   "source": [
    "Inside the training loop, optimization happens in three steps:\n",
    "- call zero_grad to reset the gradients of model parameters. Gradients by default add up; to prevent double counting, we zero them at each iteration\n",
    "- backpropagate the prediction loss with a call to loss.backward\n",
    "- Once we have our gradients, we call the optimizer.step to adjust the parameters by the gradients collected in the backward pass"
   ]
  },
  {
   "cell_type": "code",
   "execution_count": 8,
   "metadata": {},
   "outputs": [],
   "source": [
    "optimizer = torch.optim.SGD(model.parameters(), lr=learning_rate)"
   ]
  },
  {
   "attachments": {},
   "cell_type": "markdown",
   "metadata": {},
   "source": [
    "## Full Implementation\n",
    "\n",
    "We define train_loop that loop over our optimization code, ad test_lop that evaluates the model performance against our test data"
   ]
  },
  {
   "cell_type": "code",
   "execution_count": 9,
   "metadata": {},
   "outputs": [],
   "source": [
    "def train_loop(dataloader, model, loss_fn, optimizer):\n",
    "    size = len(dataloader.dataset)\n",
    "    # set the model to training mode \n",
    "    # Important for batch normalization and dropout layers\n",
    "    # Unnecessary in this situation but added for best practices\n",
    "    model.train()\n",
    "    for batch, (X, y) in enumerate(dataloader):\n",
    "        # compute prediction and loss\n",
    "        pred = model(X)\n",
    "        loss = loss_fn(pred, y)\n",
    "\n",
    "        # backpropagation\n",
    "        loss.backward()\n",
    "        optimizer.step()\n",
    "        optimizer.zero_grad()\n",
    "\n",
    "        if batch % 100 == 0:\n",
    "            loss, current = loss.item(), batch * batch_size + len(X)\n",
    "            print(f\"loss: {loss:>7f} [{current:>5d}/{size:>5d}]\")"
   ]
  },
  {
   "cell_type": "code",
   "execution_count": 10,
   "metadata": {},
   "outputs": [],
   "source": [
    "def test_loop(dataloader, model, loss_fn):\n",
    "    # set the model to evaluation mode\n",
    "    # important for batch normalization and dropout layers\n",
    "    # Unnecessary in the situation but added for best practices\n",
    "    model.eval()\n",
    "    size = len(dataloader.dataset)\n",
    "    num_batches = len(dataloader)\n",
    "    test_loss, correct = 0, 0\n",
    "\n",
    "    # evaluating the model with torch.no_grad ensures that no gradients are \n",
    "    #  computed during test mode\n",
    "    # also serves to reduce unnecessary gradient computations and memory usage for \n",
    "    #  tensors with requires_grad=true\n",
    "\n",
    "    with torch.no_grad():\n",
    "        for X, y in dataloader:\n",
    "            pred = model(X)\n",
    "            test_loss += loss_fn(pred, y).item()\n",
    "            correct += (pred.argmax(1) == y).type(torch.float).sum().item()\n",
    "    \n",
    "    test_loss /= num_batches\n",
    "    correct /= size\n",
    "    print(f\"Test Error: \\n Accuracy: {(100*correct):0.1f}%, Avg loss: {test_loss:>8f} \\n\")"
   ]
  },
  {
   "attachments": {},
   "cell_type": "markdown",
   "metadata": {},
   "source": [
    "We initialize the loss function and optimizer, and pass it to train loop and test loop."
   ]
  },
  {
   "cell_type": "code",
   "execution_count": 11,
   "metadata": {},
   "outputs": [
    {
     "name": "stdout",
     "output_type": "stream",
     "text": [
      "Epoch 1\n",
      "-------------------\n",
      "loss: 2.301270 [   64/60000]\n",
      "loss: 2.289834 [ 6464/60000]\n",
      "loss: 2.269948 [12864/60000]\n",
      "loss: 2.267678 [19264/60000]\n",
      "loss: 2.248209 [25664/60000]\n",
      "loss: 2.210048 [32064/60000]\n",
      "loss: 2.239099 [38464/60000]\n",
      "loss: 2.193348 [44864/60000]\n",
      "loss: 2.197321 [51264/60000]\n",
      "loss: 2.164119 [57664/60000]\n",
      "Test Error: \n",
      " Accuracy: 28.6%, Avg loss: 2.155802 \n",
      "\n",
      "Epoch 2\n",
      "-------------------\n",
      "loss: 2.161638 [   64/60000]\n",
      "loss: 2.149521 [ 6464/60000]\n",
      "loss: 2.093071 [12864/60000]\n",
      "loss: 2.112159 [19264/60000]\n",
      "loss: 2.053027 [25664/60000]\n",
      "loss: 1.995128 [32064/60000]\n",
      "loss: 2.036783 [38464/60000]\n",
      "loss: 1.950498 [44864/60000]\n",
      "loss: 1.965462 [51264/60000]\n",
      "loss: 1.889827 [57664/60000]\n",
      "Test Error: \n",
      " Accuracy: 57.1%, Avg loss: 1.883304 \n",
      "\n",
      "Epoch 3\n",
      "-------------------\n",
      "loss: 1.911616 [   64/60000]\n",
      "loss: 1.876655 [ 6464/60000]\n",
      "loss: 1.765501 [12864/60000]\n",
      "loss: 1.810394 [19264/60000]\n",
      "loss: 1.695440 [25664/60000]\n",
      "loss: 1.649800 [32064/60000]\n",
      "loss: 1.682816 [38464/60000]\n",
      "loss: 1.581166 [44864/60000]\n",
      "loss: 1.611629 [51264/60000]\n",
      "loss: 1.507745 [57664/60000]\n",
      "Test Error: \n",
      " Accuracy: 62.5%, Avg loss: 1.524400 \n",
      "\n",
      "Epoch 4\n",
      "-------------------\n",
      "loss: 1.579865 [   64/60000]\n",
      "loss: 1.547766 [ 6464/60000]\n",
      "loss: 1.407757 [12864/60000]\n",
      "loss: 1.478494 [19264/60000]\n",
      "loss: 1.359432 [25664/60000]\n",
      "loss: 1.350503 [32064/60000]\n",
      "loss: 1.368265 [38464/60000]\n",
      "loss: 1.294006 [44864/60000]\n",
      "loss: 1.329641 [51264/60000]\n",
      "loss: 1.229638 [57664/60000]\n",
      "Test Error: \n",
      " Accuracy: 63.8%, Avg loss: 1.258859 \n",
      "\n",
      "Epoch 5\n",
      "-------------------\n",
      "loss: 1.321401 [   64/60000]\n",
      "loss: 1.309891 [ 6464/60000]\n",
      "loss: 1.154734 [12864/60000]\n",
      "loss: 1.255910 [19264/60000]\n",
      "loss: 1.132124 [25664/60000]\n",
      "loss: 1.148308 [32064/60000]\n",
      "loss: 1.168272 [38464/60000]\n",
      "loss: 1.110827 [44864/60000]\n",
      "loss: 1.150486 [51264/60000]\n",
      "loss: 1.060580 [57664/60000]\n",
      "Test Error: \n",
      " Accuracy: 64.7%, Avg loss: 1.088487 \n",
      "\n",
      "Epoch 6\n",
      "-------------------\n",
      "loss: 1.146533 [   64/60000]\n",
      "loss: 1.154751 [ 6464/60000]\n",
      "loss: 0.983605 [12864/60000]\n",
      "loss: 1.113388 [19264/60000]\n",
      "loss: 0.988141 [25664/60000]\n",
      "loss: 1.011270 [32064/60000]\n",
      "loss: 1.043785 [38464/60000]\n",
      "loss: 0.992932 [44864/60000]\n",
      "loss: 1.032192 [51264/60000]\n",
      "loss: 0.953775 [57664/60000]\n",
      "Test Error: \n",
      " Accuracy: 65.8%, Avg loss: 0.977580 \n",
      "\n",
      "Epoch 7\n",
      "-------------------\n",
      "loss: 1.024321 [   64/60000]\n",
      "loss: 1.053778 [ 6464/60000]\n",
      "loss: 0.865741 [12864/60000]\n",
      "loss: 1.018800 [19264/60000]\n",
      "loss: 0.897309 [25664/60000]\n",
      "loss: 0.917268 [32064/60000]\n",
      "loss: 0.964155 [38464/60000]\n",
      "loss: 0.917297 [44864/60000]\n",
      "loss: 0.951276 [51264/60000]\n",
      "loss: 0.883235 [57664/60000]\n",
      "Test Error: \n",
      " Accuracy: 67.2%, Avg loss: 0.903282 \n",
      "\n",
      "Epoch 8\n",
      "-------------------\n",
      "loss: 0.936060 [   64/60000]\n",
      "loss: 0.985332 [ 6464/60000]\n",
      "loss: 0.782921 [12864/60000]\n",
      "loss: 0.953238 [19264/60000]\n",
      "loss: 0.837891 [25664/60000]\n",
      "loss: 0.850834 [32064/60000]\n",
      "loss: 0.910093 [38464/60000]\n",
      "loss: 0.867672 [44864/60000]\n",
      "loss: 0.893982 [51264/60000]\n",
      "loss: 0.833907 [57664/60000]\n",
      "Test Error: \n",
      " Accuracy: 68.3%, Avg loss: 0.850946 \n",
      "\n",
      "Epoch 9\n",
      "-------------------\n",
      "loss: 0.869460 [   64/60000]\n",
      "loss: 0.935557 [ 6464/60000]\n",
      "loss: 0.722317 [12864/60000]\n",
      "loss: 0.905347 [19264/60000]\n",
      "loss: 0.796463 [25664/60000]\n",
      "loss: 0.801991 [32064/60000]\n",
      "loss: 0.870245 [38464/60000]\n",
      "loss: 0.833661 [44864/60000]\n",
      "loss: 0.851458 [51264/60000]\n",
      "loss: 0.796997 [57664/60000]\n",
      "Test Error: \n",
      " Accuracy: 69.3%, Avg loss: 0.811886 \n",
      "\n",
      "Epoch 10\n",
      "-------------------\n",
      "loss: 0.816746 [   64/60000]\n",
      "loss: 0.896554 [ 6464/60000]\n",
      "loss: 0.675460 [12864/60000]\n",
      "loss: 0.868518 [19264/60000]\n",
      "loss: 0.765161 [25664/60000]\n",
      "loss: 0.764795 [32064/60000]\n",
      "loss: 0.838819 [38464/60000]\n",
      "loss: 0.808700 [44864/60000]\n",
      "loss: 0.818398 [51264/60000]\n",
      "loss: 0.767800 [57664/60000]\n",
      "Test Error: \n",
      " Accuracy: 70.7%, Avg loss: 0.780983 \n",
      "\n",
      "Done!\n"
     ]
    }
   ],
   "source": [
    "loos_fn = nn.CrossEntropyLoss()\n",
    "optimizer = torch.optim.SGD(model.parameters(), lr=learning_rate)\n",
    "\n",
    "epochs = 10\n",
    "for t in range(epochs):\n",
    "    print(f\"Epoch {t+1}\\n-------------------\")\n",
    "    train_loop(train_dataloader, model, loss_fn, optimizer)\n",
    "    test_loop(test_dataloader, model, loss_fn)\n",
    "print(\"Done!\")"
   ]
  }
 ],
 "metadata": {
  "kernelspec": {
   "display_name": "venv-metal",
   "language": "python",
   "name": "python3"
  },
  "language_info": {
   "codemirror_mode": {
    "name": "ipython",
    "version": 3
   },
   "file_extension": ".py",
   "mimetype": "text/x-python",
   "name": "python",
   "nbconvert_exporter": "python",
   "pygments_lexer": "ipython3",
   "version": "3.9.6"
  },
  "orig_nbformat": 4
 },
 "nbformat": 4,
 "nbformat_minor": 2
}
