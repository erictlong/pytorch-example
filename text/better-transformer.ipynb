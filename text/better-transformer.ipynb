{
 "cells": [
  {
   "cell_type": "markdown",
   "metadata": {},
   "source": [
    "# Fast Transformer Interence with Better Transformer\n",
    "\n",
    "Shows how to use better transformer for production inference with torchtext. Better Transformer is a production read fastpath to accelerate deployment of transformer models with high performance on cpu and gpu. The fastpath feature works transparently for models based either directly on pytorch core or with torchtext.\n",
    "\n",
    "Better transformer offers two types of acceleration:\n",
    "- native multihead attention (mha) implementation for cpu and gpu to improve overall executino efficiency\n",
    "- exploiting sparsity in nlp interence. Because of variable input length, input tokens may contain a large number of padding tokens for which proceassing may be skipped, delivering significant speedups\n",
    "\n",
    "source: https://pytorch.org/tutorials/beginner/bettertransformer_tutorial.html"
   ]
  },
  {
   "cell_type": "markdown",
   "metadata": {},
   "source": [
    "# Setup\n",
    "\n",
    "We download the xlmr model from the predifined torchtext models by follwing the instruction in torchtext.models. "
   ]
  },
  {
   "cell_type": "code",
   "execution_count": 1,
   "metadata": {},
   "outputs": [
    {
     "name": "stdout",
     "output_type": "stream",
     "text": [
      "torch version:2.3.1\n"
     ]
    }
   ],
   "source": [
    "import torch\n",
    "import torch.nn as nn\n",
    "\n",
    "print(f\"torch version:{torch.__version__}\")"
   ]
  },
  {
   "cell_type": "code",
   "execution_count": 2,
   "metadata": {},
   "outputs": [
    {
     "name": "stdout",
     "output_type": "stream",
     "text": [
      "torch cuda available: False\n"
     ]
    }
   ],
   "source": [
    "DEVICE = torch.device(\"cuda\") if torch.cuda.is_available() else torch.device(\"cpu\")\n",
    "\n",
    "print(f\"torch cuda available: {torch.cuda.is_available()}\")"
   ]
  },
  {
   "cell_type": "code",
   "execution_count": 3,
   "metadata": {},
   "outputs": [
    {
     "name": "stderr",
     "output_type": "stream",
     "text": [
      "/Users/eric/venv-metal/lib/python3.9/site-packages/torchtext/models/__init__.py:4: UserWarning: \n",
      "/!\\ IMPORTANT WARNING ABOUT TORCHTEXT STATUS /!\\ \n",
      "Torchtext is deprecated and the last released version will be 0.18 (this one). You can silence this warning by calling the following at the beginnign of your scripts: `import torchtext; torchtext.disable_torchtext_deprecation_warning()`\n",
      "  warnings.warn(torchtext._TORCHTEXT_DEPRECATION_MSG)\n",
      "/Users/eric/venv-metal/lib/python3.9/site-packages/urllib3/__init__.py:35: NotOpenSSLWarning: urllib3 v2 only supports OpenSSL 1.1.1+, currently the 'ssl' module is compiled with 'LibreSSL 2.8.3'. See: https://github.com/urllib3/urllib3/issues/3020\n",
      "  warnings.warn(\n",
      "/Users/eric/venv-metal/lib/python3.9/site-packages/torchtext/transforms.py:4: UserWarning: \n",
      "/!\\ IMPORTANT WARNING ABOUT TORCHTEXT STATUS /!\\ \n",
      "Torchtext is deprecated and the last released version will be 0.18 (this one). You can silence this warning by calling the following at the beginnign of your scripts: `import torchtext; torchtext.disable_torchtext_deprecation_warning()`\n",
      "  warnings.warn(torchtext._TORCHTEXT_DEPRECATION_MSG)\n",
      "/Users/eric/venv-metal/lib/python3.9/site-packages/torchtext/data/__init__.py:4: UserWarning: \n",
      "/!\\ IMPORTANT WARNING ABOUT TORCHTEXT STATUS /!\\ \n",
      "Torchtext is deprecated and the last released version will be 0.18 (this one). You can silence this warning by calling the following at the beginnign of your scripts: `import torchtext; torchtext.disable_torchtext_deprecation_warning()`\n",
      "  warnings.warn(torchtext._TORCHTEXT_DEPRECATION_MSG)\n",
      "/Users/eric/venv-metal/lib/python3.9/site-packages/torchtext/utils.py:4: UserWarning: \n",
      "/!\\ IMPORTANT WARNING ABOUT TORCHTEXT STATUS /!\\ \n",
      "Torchtext is deprecated and the last released version will be 0.18 (this one). You can silence this warning by calling the following at the beginnign of your scripts: `import torchtext; torchtext.disable_torchtext_deprecation_warning()`\n",
      "  warnings.warn(torchtext._TORCHTEXT_DEPRECATION_MSG)\n",
      "/Users/eric/venv-metal/lib/python3.9/site-packages/torchtext/vocab/__init__.py:4: UserWarning: \n",
      "/!\\ IMPORTANT WARNING ABOUT TORCHTEXT STATUS /!\\ \n",
      "Torchtext is deprecated and the last released version will be 0.18 (this one). You can silence this warning by calling the following at the beginnign of your scripts: `import torchtext; torchtext.disable_torchtext_deprecation_warning()`\n",
      "  warnings.warn(torchtext._TORCHTEXT_DEPRECATION_MSG)\n",
      "/Users/eric/venv-metal/lib/python3.9/site-packages/torchtext/functional.py:4: UserWarning: \n",
      "/!\\ IMPORTANT WARNING ABOUT TORCHTEXT STATUS /!\\ \n",
      "Torchtext is deprecated and the last released version will be 0.18 (this one). You can silence this warning by calling the following at the beginnign of your scripts: `import torchtext; torchtext.disable_torchtext_deprecation_warning()`\n",
      "  warnings.warn(torchtext._TORCHTEXT_DEPRECATION_MSG)\n",
      "/Users/eric/venv-metal/lib/python3.9/site-packages/torchtext/prototype/__init__.py:4: UserWarning: \n",
      "/!\\ IMPORTANT WARNING ABOUT TORCHTEXT STATUS /!\\ \n",
      "Torchtext is deprecated and the last released version will be 0.18 (this one). You can silence this warning by calling the following at the beginnign of your scripts: `import torchtext; torchtext.disable_torchtext_deprecation_warning()`\n",
      "  warnings.warn(torchtext._TORCHTEXT_DEPRECATION_MSG)\n"
     ]
    }
   ],
   "source": [
    "import torch, torchtext\n",
    "from torchtext.models import RobertaClassificationHead\n",
    "from torchtext.functional import to_tensor"
   ]
  },
  {
   "cell_type": "code",
   "execution_count": 4,
   "metadata": {},
   "outputs": [],
   "source": [
    "xlmr_large = torchtext.models.XLMR_LARGE_ENCODER\n",
    "classifier_head = torchtext.models.RobertaClassificationHead(num_classes=2, input_dim= 1024)\n",
    "model = xlmr_large.get_model(head=classifier_head)\n",
    "transform = xlmr_large.transform()"
   ]
  },
  {
   "cell_type": "markdown",
   "metadata": {},
   "source": [
    "### Dataset Setup\n",
    "\n",
    "We setup two types of inputs\n",
    "- a small input batch \n",
    "- larget input batch with sparsity"
   ]
  },
  {
   "cell_type": "code",
   "execution_count": 5,
   "metadata": {},
   "outputs": [],
   "source": [
    "small_input_batch = [\n",
    "               \"Hello world\",\n",
    "               \"How are you!\"\n",
    "]\n",
    "big_input_batch = [\n",
    "               \"Hello world\",\n",
    "               \"How are you!\",\n",
    "               \"\"\"`Well, Prince, so Genoa and Lucca are now just family estates of the\n",
    "Buonapartes. But I warn you, if you don't tell me that this means war,\n",
    "if you still try to defend the infamies and horrors perpetrated by\n",
    "that Antichrist- I really believe he is Antichrist- I will have\n",
    "nothing more to do with you and you are no longer my friend, no longer\n",
    "my 'faithful slave,' as you call yourself! But how do you do? I see\n",
    "I have frightened you- sit down and tell me all the news.`\n",
    "\n",
    "It was in July, 1805, and the speaker was the well-known Anna\n",
    "Pavlovna Scherer, maid of honor and favorite of the Empress Marya\n",
    "Fedorovna. With these words she greeted Prince Vasili Kuragin, a man\n",
    "of high rank and importance, who was the first to arrive at her\n",
    "reception. Anna Pavlovna had had a cough for some days. She was, as\n",
    "she said, suffering from la grippe; grippe being then a new word in\n",
    "St. Petersburg, used only by the elite.\"\"\"\n",
    "]"
   ]
  },
  {
   "cell_type": "markdown",
   "metadata": {},
   "source": [
    "Next we select either the small or large input batch, preprocess the inputs and test the model"
   ]
  },
  {
   "cell_type": "code",
   "execution_count": 6,
   "metadata": {},
   "outputs": [
    {
     "data": {
      "text/plain": [
       "torch.Size([3, 2])"
      ]
     },
     "execution_count": 6,
     "metadata": {},
     "output_type": "execute_result"
    }
   ],
   "source": [
    "input_batch = big_input_batch\n",
    "\n",
    "model_input = to_tensor(transform(input_batch), padding_value=1)\n",
    "output = model(model_input)\n",
    "output.shape"
   ]
  },
  {
   "cell_type": "markdown",
   "metadata": {},
   "source": [
    "Finally we set the benchmark interation count"
   ]
  },
  {
   "cell_type": "code",
   "execution_count": 7,
   "metadata": {},
   "outputs": [],
   "source": [
    "INTERATION = 10"
   ]
  },
  {
   "cell_type": "markdown",
   "metadata": {},
   "source": [
    "## Execution\n",
    "\n",
    "We run the model on cpu, and collect profile information\n",
    "- the first run uses traditional (\"slow path\") execution\n",
    "- the second run bt fastpath execution by putting the model in inference mode using model.eval() and disables graient collection with torch.no_grad()\n",
    "\n",
    "We can see an improvement (whose magnitude will depend on the cput model) when the model is executing on cpu. Notice that the fastpath profile shows most of the execution time in the native transformerencoderlayer implementation "
   ]
  },
  {
   "cell_type": "markdown",
   "metadata": {},
   "source": [
    "### Slow path"
   ]
  },
  {
   "cell_type": "code",
   "execution_count": 8,
   "metadata": {},
   "outputs": [
    {
     "name": "stderr",
     "output_type": "stream",
     "text": [
      "STAGE:2024-08-06 06:22:28 26961:5551113 ActivityProfilerController.cpp:314] Completed Stage: Warm Up\n",
      "STAGE:2024-08-06 06:22:54 26961:5551113 ActivityProfilerController.cpp:320] Completed Stage: Collection\n",
      "STAGE:2024-08-06 06:22:54 26961:5551113 ActivityProfilerController.cpp:324] Completed Stage: Post Processing\n"
     ]
    },
    {
     "name": "stdout",
     "output_type": "stream",
     "text": [
      "--------------------------------------------  ------------  ------------  ------------  ------------  ------------  ------------  \n",
      "                                        Name    Self CPU %      Self CPU   CPU total %     CPU total  CPU time avg    # of Calls  \n",
      "--------------------------------------------  ------------  ------------  ------------  ------------  ------------  ------------  \n",
      "                                    aten::eq         0.00%      25.000us         0.00%      25.000us      25.000us             1  \n",
      "                             aten::embedding         0.00%      23.000us         0.01%       1.334ms       1.334ms             1  \n",
      "                               aten::reshape         0.00%       1.000us         0.00%       3.000us       3.000us             1  \n",
      "                                  aten::view         0.00%       2.000us         0.00%       2.000us       2.000us             1  \n",
      "                          aten::index_select         0.01%       1.300ms         0.01%       1.307ms       1.307ms             1  \n",
      "                                 aten::empty         0.00%       1.000us         0.00%       1.000us       1.000us             1  \n",
      "                                aten::select         0.00%       5.000us         0.00%       6.000us       6.000us             1  \n",
      "                            aten::as_strided         0.00%       1.000us         0.00%       1.000us       1.000us             1  \n",
      "                                aten::select         0.00%       0.000us         0.00%       0.000us       0.000us             1  \n",
      "                            aten::as_strided         0.00%       0.000us         0.00%       0.000us       0.000us             1  \n",
      "                                  aten::view         0.00%       1.000us         0.00%       1.000us       1.000us             1  \n",
      "                                    aten::ne         0.00%      10.000us         0.00%      10.000us      10.000us             1  \n",
      "                                    aten::to         0.00%       1.000us         0.00%      25.000us      25.000us             1  \n",
      "                              aten::_to_copy         0.00%      18.000us         0.00%      24.000us      24.000us             1  \n",
      "                         aten::empty_strided         0.00%       1.000us         0.00%       1.000us       1.000us             1  \n",
      "                                 aten::copy_         0.00%       5.000us         0.00%       5.000us       5.000us             1  \n",
      "                                aten::cumsum         0.00%      12.000us         0.00%      12.000us      12.000us             1  \n",
      "                                    aten::to         0.00%       0.000us         0.00%       0.000us       0.000us             1  \n",
      "                                   aten::mul         0.00%       3.000us         0.00%       3.000us       3.000us             1  \n",
      "                                   aten::add         0.00%       3.000us         0.00%       3.000us       3.000us             1  \n",
      "                             aten::embedding         0.00%       9.000us         0.01%       3.349ms       3.349ms             1  \n",
      "                               aten::reshape         0.00%       0.000us         0.00%       0.000us       0.000us             1  \n",
      "                                  aten::view         0.00%       0.000us         0.00%       0.000us       0.000us             1  \n",
      "                          aten::index_select         0.01%       3.338ms         0.01%       3.339ms       3.339ms             1  \n",
      "                                 aten::empty         0.00%       0.000us         0.00%       0.000us       0.000us             1  \n",
      "                                aten::select         0.00%       1.000us         0.00%       1.000us       1.000us             1  \n",
      "                            aten::as_strided         0.00%       0.000us         0.00%       0.000us       0.000us             1  \n",
      "                                aten::select         0.00%       0.000us         0.00%       0.000us       0.000us             1  \n",
      "                            aten::as_strided         0.00%       0.000us         0.00%       0.000us       0.000us             1  \n",
      "                                  aten::view         0.00%       1.000us         0.00%       1.000us       1.000us             1  \n",
      "                                   aten::add         0.01%       2.492ms         0.01%       2.492ms       2.492ms             1  \n",
      "                            aten::layer_norm         0.00%     693.000us         0.01%       3.315ms       3.315ms             1  \n",
      "                     aten::native_layer_norm         0.01%       2.612ms         0.01%       2.622ms       2.622ms             1  \n",
      "                                 aten::empty         0.00%       5.000us         0.00%       5.000us       5.000us             1  \n",
      "                                 aten::empty         0.00%       1.000us         0.00%       1.000us       1.000us             1  \n",
      "                                 aten::empty         0.00%       0.000us         0.00%       0.000us       0.000us             1  \n",
      "                                  aten::view         0.00%       4.000us         0.00%       4.000us       4.000us             1  \n",
      "                                  aten::view         0.00%       0.000us         0.00%       0.000us       0.000us             1  \n",
      "                               aten::dropout         0.00%     574.000us         0.02%       4.146ms       4.146ms             1  \n",
      "                            aten::empty_like         0.00%       2.000us         0.00%       7.000us       7.000us             1  \n",
      "                                 aten::empty         0.00%       5.000us         0.00%       5.000us       5.000us             1  \n",
      "                            aten::bernoulli_         0.01%       2.987ms         0.01%       2.987ms       2.987ms             1  \n",
      "                                  aten::div_         0.00%     285.000us         0.00%     321.000us     321.000us             1  \n",
      "                                    aten::to         0.00%       6.000us         0.00%      36.000us      36.000us             1  \n",
      "                              aten::_to_copy         0.00%      20.000us         0.00%      30.000us      30.000us             1  \n",
      "                         aten::empty_strided         0.00%       3.000us         0.00%       3.000us       3.000us             1  \n",
      "                                 aten::copy_         0.00%       7.000us         0.00%       7.000us       7.000us             1  \n",
      "                                   aten::mul         0.00%     257.000us         0.00%     257.000us     257.000us             1  \n",
      "                            aten::zeros_like         0.00%      13.000us         0.00%      21.000us      21.000us             1  \n",
      "                            aten::empty_like         0.00%       1.000us         0.00%       3.000us       3.000us             1  \n",
      "                         aten::empty_strided         0.00%       2.000us         0.00%       2.000us       2.000us             1  \n",
      "                                 aten::zero_         0.00%       5.000us         0.00%       5.000us       5.000us             1  \n",
      "                          aten::masked_fill_         0.00%      13.000us         0.00%      13.000us      13.000us             1  \n",
      "                             aten::transpose         0.00%       9.000us         0.00%      11.000us      11.000us             1  \n",
      "                            aten::as_strided         0.00%       2.000us         0.00%       2.000us       2.000us             1  \n",
      "                                aten::linear         0.00%       7.000us         0.11%      27.891ms      27.891ms             1  \n",
      "                                     aten::t         0.00%       4.000us         0.00%       9.000us       9.000us             1  \n",
      "                             aten::transpose         0.00%       0.000us         0.00%       5.000us       5.000us             1  \n",
      "                            aten::as_strided         0.00%       5.000us         0.00%       5.000us       5.000us             1  \n",
      "                                aten::matmul         0.00%      15.000us         0.11%      27.628ms      27.628ms             1  \n",
      "                               aten::reshape         0.00%      14.000us         0.00%     453.000us     453.000us             1  \n",
      "                                 aten::clone         0.00%      10.000us         0.00%     430.000us     430.000us             1  \n",
      "                            aten::empty_like         0.00%       3.000us         0.00%       3.000us       3.000us             1  \n",
      "                                 aten::empty         0.00%       2.000us         0.00%       2.000us       2.000us             1  \n",
      "                                 aten::copy_         0.00%     415.000us         0.00%     415.000us     415.000us             1  \n",
      "                          aten::_unsafe_view         0.00%       9.000us         0.00%       9.000us       9.000us             1  \n",
      "                                    aten::mm         0.11%      27.151ms         0.11%      27.151ms      27.151ms             1  \n",
      "                          aten::resolve_conj         0.00%       0.000us         0.00%       0.000us       0.000us             1  \n",
      "                          aten::resolve_conj         0.00%       0.000us         0.00%       0.000us       0.000us             1  \n",
      "                          aten::_unsafe_view         0.00%       9.000us         0.00%       9.000us       9.000us             1  \n",
      "                                  aten::add_         0.00%     247.000us         0.00%     247.000us     247.000us             1  \n",
      "                             aten::unflatten         0.00%       4.000us         0.00%       8.000us       8.000us             1  \n",
      "                                  aten::view         0.00%       4.000us         0.00%       4.000us       4.000us             1  \n",
      "                             aten::unsqueeze         0.00%       4.000us         0.00%       5.000us       5.000us             1  \n",
      "                            aten::as_strided         0.00%       1.000us         0.00%       1.000us       1.000us             1  \n",
      "                             aten::transpose         0.00%       3.000us         0.00%       4.000us       4.000us             1  \n",
      "                            aten::as_strided         0.00%       1.000us         0.00%       1.000us       1.000us             1  \n",
      "                               aten::squeeze         0.00%       4.000us         0.00%       4.000us       4.000us             1  \n",
      "                            aten::as_strided         0.00%       0.000us         0.00%       0.000us       0.000us             1  \n",
      "                            aten::contiguous         0.00%       2.000us         0.01%       1.506ms       1.506ms             1  \n",
      "                                 aten::clone         0.00%      11.000us         0.01%       1.504ms       1.504ms             1  \n",
      "                            aten::empty_like         0.00%       2.000us         0.00%      17.000us      17.000us             1  \n",
      "                                 aten::empty         0.00%      15.000us         0.00%      15.000us      15.000us             1  \n",
      "                                 aten::copy_         0.01%       1.476ms         0.01%       1.476ms       1.476ms             1  \n",
      "                                aten::select         0.00%      11.000us         0.00%      12.000us      12.000us             1  \n",
      "                            aten::as_strided         0.00%       1.000us         0.00%       1.000us       1.000us             1  \n",
      "                                aten::select         0.00%       1.000us         0.00%       1.000us       1.000us             1  \n",
      "                            aten::as_strided         0.00%       0.000us         0.00%       0.000us       0.000us             1  \n",
      "                                aten::select         0.00%       1.000us         0.00%       1.000us       1.000us             1  \n",
      "                            aten::as_strided         0.00%       0.000us         0.00%       0.000us       0.000us             1  \n",
      "                                  aten::view         0.00%       3.000us         0.00%       3.000us       3.000us             1  \n",
      "                             aten::transpose         0.00%       7.000us         0.00%       7.000us       7.000us             1  \n",
      "                            aten::as_strided         0.00%       0.000us         0.00%       0.000us       0.000us             1  \n",
      "                                  aten::view         0.00%       1.000us         0.00%       1.000us       1.000us             1  \n",
      "                             aten::transpose         0.00%       1.000us         0.00%       1.000us       1.000us             1  \n",
      "                            aten::as_strided         0.00%       0.000us         0.00%       0.000us       0.000us             1  \n",
      "                                  aten::view         0.00%       0.000us         0.00%       0.000us       0.000us             1  \n",
      "                             aten::transpose         0.00%       1.000us         0.00%       1.000us       1.000us             1  \n",
      "                            aten::as_strided         0.00%       0.000us         0.00%       0.000us       0.000us             1  \n",
      "                                  aten::view         0.00%       1.000us         0.00%       1.000us       1.000us             1  \n",
      "--------------------------------------------  ------------  ------------  ------------  ------------  ------------  ------------  \n",
      "Self CPU time total: 25.019s\n",
      "\n"
     ]
    },
    {
     "data": {
      "text/plain": [
       "RobertaModel(\n",
       "  (encoder): RobertaEncoder(\n",
       "    (transformer): TransformerEncoder(\n",
       "      (token_embedding): Embedding(250002, 1024, padding_idx=1)\n",
       "      (layers): TransformerEncoder(\n",
       "        (layers): ModuleList(\n",
       "          (0-23): 24 x TransformerEncoderLayer(\n",
       "            (self_attn): MultiheadAttention(\n",
       "              (out_proj): NonDynamicallyQuantizableLinear(in_features=1024, out_features=1024, bias=True)\n",
       "            )\n",
       "            (linear1): Linear(in_features=1024, out_features=4096, bias=True)\n",
       "            (dropout): Dropout(p=0.1, inplace=False)\n",
       "            (linear2): Linear(in_features=4096, out_features=1024, bias=True)\n",
       "            (norm1): LayerNorm((1024,), eps=1e-05, elementwise_affine=True)\n",
       "            (norm2): LayerNorm((1024,), eps=1e-05, elementwise_affine=True)\n",
       "            (dropout1): Dropout(p=0.1, inplace=False)\n",
       "            (dropout2): Dropout(p=0.1, inplace=False)\n",
       "          )\n",
       "        )\n",
       "      )\n",
       "      (positional_embedding): PositionalEmbedding(\n",
       "        (embedding): Embedding(514, 1024, padding_idx=1)\n",
       "      )\n",
       "      (embedding_layer_norm): LayerNorm((1024,), eps=1e-05, elementwise_affine=True)\n",
       "      (dropout): Dropout(p=0.1, inplace=False)\n",
       "    )\n",
       "  )\n",
       "  (head): RobertaClassificationHead(\n",
       "    (dense): Linear(in_features=1024, out_features=1024, bias=True)\n",
       "    (dropout): Dropout(p=0.1, inplace=False)\n",
       "    (out_proj): Linear(in_features=1024, out_features=2, bias=True)\n",
       "    (activation_fn): ReLU()\n",
       "  )\n",
       ")"
      ]
     },
     "execution_count": 8,
     "metadata": {},
     "output_type": "execute_result"
    }
   ],
   "source": [
    "with torch.autograd.profiler.profile(use_cuda=False) as prof:\n",
    "    for i in range(INTERATION):\n",
    "        output = model(model_input)\n",
    "print(prof)\n",
    "\n",
    "model.eval()"
   ]
  },
  {
   "cell_type": "markdown",
   "metadata": {},
   "source": [
    "### Fast path"
   ]
  },
  {
   "cell_type": "code",
   "execution_count": 9,
   "metadata": {},
   "outputs": [
    {
     "name": "stderr",
     "output_type": "stream",
     "text": [
      "STAGE:2024-08-06 06:23:04 26961:5551113 ActivityProfilerController.cpp:314] Completed Stage: Warm Up\n",
      "/Users/eric/venv-metal/lib/python3.9/site-packages/torch/nn/modules/transformer.py:408: UserWarning: The PyTorch API of nested tensors is in prototype stage and will change in the near future. (Triggered internally at /Users/runner/work/pytorch/pytorch/pytorch/aten/src/ATen/NestedTensorImpl.cpp:180.)\n",
      "  output = torch._nested_tensor_from_mask(output, src_key_padding_mask.logical_not(), mask_check=False)\n",
      "STAGE:2024-08-06 06:23:10 26961:5551113 ActivityProfilerController.cpp:320] Completed Stage: Collection\n",
      "STAGE:2024-08-06 06:23:10 26961:5551113 ActivityProfilerController.cpp:324] Completed Stage: Post Processing\n"
     ]
    },
    {
     "name": "stdout",
     "output_type": "stream",
     "text": [
      "-------------------------------------------  ------------  ------------  ------------  ------------  ------------  ------------  \n",
      "                                       Name    Self CPU %      Self CPU   CPU total %     CPU total  CPU time avg    # of Calls  \n",
      "-------------------------------------------  ------------  ------------  ------------  ------------  ------------  ------------  \n",
      "                                   aten::eq         0.00%      79.000us         0.00%      79.000us      79.000us             1  \n",
      "                            aten::embedding         0.00%     222.000us         0.03%       1.494ms       1.494ms             1  \n",
      "                              aten::reshape         0.00%       2.000us         0.00%     226.000us     226.000us             1  \n",
      "                                 aten::view         0.00%     224.000us         0.00%     224.000us     224.000us             1  \n",
      "                         aten::index_select         0.02%       1.015ms         0.02%       1.024ms       1.024ms             1  \n",
      "                                aten::empty         0.00%       2.000us         0.00%       2.000us       2.000us             1  \n",
      "                               aten::select         0.00%       6.000us         0.00%       7.000us       7.000us             1  \n",
      "                           aten::as_strided         0.00%       1.000us         0.00%       1.000us       1.000us             1  \n",
      "                               aten::select         0.00%       0.000us         0.00%       0.000us       0.000us             1  \n",
      "                           aten::as_strided         0.00%       0.000us         0.00%       0.000us       0.000us             1  \n",
      "                                 aten::view         0.00%      22.000us         0.00%      22.000us      22.000us             1  \n",
      "                                   aten::ne         0.00%      16.000us         0.00%      16.000us      16.000us             1  \n",
      "                                   aten::to         0.00%       3.000us         0.00%      71.000us      71.000us             1  \n",
      "                             aten::_to_copy         0.00%       9.000us         0.00%      68.000us      68.000us             1  \n",
      "                        aten::empty_strided         0.00%      53.000us         0.00%      53.000us      53.000us             1  \n",
      "                                aten::copy_         0.00%       6.000us         0.00%       6.000us       6.000us             1  \n",
      "                               aten::cumsum         0.00%       7.000us         0.00%       7.000us       7.000us             1  \n",
      "                                   aten::to         0.00%       0.000us         0.00%       0.000us       0.000us             1  \n",
      "                                  aten::mul         0.00%       8.000us         0.00%       8.000us       8.000us             1  \n",
      "                                  aten::add         0.00%       3.000us         0.00%       3.000us       3.000us             1  \n",
      "                            aten::embedding         0.00%       7.000us         0.01%     504.000us     504.000us             1  \n",
      "                              aten::reshape         0.00%       1.000us         0.00%       1.000us       1.000us             1  \n",
      "                                 aten::view         0.00%       0.000us         0.00%       0.000us       0.000us             1  \n",
      "                         aten::index_select         0.01%     493.000us         0.01%     495.000us     495.000us             1  \n",
      "                                aten::empty         0.00%       0.000us         0.00%       0.000us       0.000us             1  \n",
      "                               aten::select         0.00%       2.000us         0.00%       2.000us       2.000us             1  \n",
      "                           aten::as_strided         0.00%       0.000us         0.00%       0.000us       0.000us             1  \n",
      "                               aten::select         0.00%       0.000us         0.00%       0.000us       0.000us             1  \n",
      "                           aten::as_strided         0.00%       0.000us         0.00%       0.000us       0.000us             1  \n",
      "                                 aten::view         0.00%       1.000us         0.00%       1.000us       1.000us             1  \n",
      "                                  aten::add         0.00%     253.000us         0.00%     253.000us     253.000us             1  \n",
      "                           aten::layer_norm         0.00%       3.000us         0.01%     554.000us     554.000us             1  \n",
      "                    aten::native_layer_norm         0.01%     471.000us         0.01%     551.000us     551.000us             1  \n",
      "                                aten::empty         0.00%       1.000us         0.00%       1.000us       1.000us             1  \n",
      "                                aten::empty         0.00%       0.000us         0.00%       0.000us       0.000us             1  \n",
      "                                aten::empty         0.00%       0.000us         0.00%       0.000us       0.000us             1  \n",
      "                                 aten::view         0.00%       3.000us         0.00%       3.000us       3.000us             1  \n",
      "                                 aten::view         0.00%      76.000us         0.00%      76.000us      76.000us             1  \n",
      "                              aten::dropout         0.00%       0.000us         0.00%       0.000us       0.000us             1  \n",
      "                           aten::zeros_like         0.00%       6.000us         0.00%       8.000us       8.000us             1  \n",
      "                           aten::empty_like         0.00%       1.000us         0.00%       2.000us       2.000us             1  \n",
      "                        aten::empty_strided         0.00%       1.000us         0.00%       1.000us       1.000us             1  \n",
      "                                aten::zero_         0.00%       0.000us         0.00%       0.000us       0.000us             1  \n",
      "                         aten::masked_fill_         0.00%       5.000us         0.00%       5.000us       5.000us             1  \n",
      "                          aten::logical_not         0.01%     603.000us         0.02%     950.000us     950.000us             1  \n",
      "                                aten::empty         0.00%       0.000us         0.00%       0.000us       0.000us             1  \n",
      "                          aten::logical_not         0.01%     347.000us         0.01%     347.000us     347.000us             1  \n",
      "             aten::_nested_tensor_from_mask         0.03%       1.906ms         0.20%      10.984ms      10.984ms             1  \n",
      "                                aten::zeros         0.01%     308.000us         0.01%     314.000us     314.000us             1  \n",
      "                                aten::empty         0.00%       5.000us         0.00%       5.000us       5.000us             1  \n",
      "                                aten::zero_         0.00%       1.000us         0.00%       1.000us       1.000us             1  \n",
      "                                  aten::cat         0.01%     302.000us         0.01%     315.000us     315.000us             1  \n",
      "                               aten::narrow         0.00%       9.000us         0.00%       9.000us       9.000us             1  \n",
      "                                aten::slice         0.00%       3.000us         0.00%       4.000us       4.000us             1  \n",
      "                           aten::as_strided         0.00%       1.000us         0.00%       1.000us       1.000us             1  \n",
      "                               aten::narrow         0.00%       0.000us         0.00%       0.000us       0.000us             1  \n",
      "                                aten::slice         0.00%       0.000us         0.00%       0.000us       0.000us             1  \n",
      "                           aten::as_strided         0.00%       0.000us         0.00%       0.000us       0.000us             1  \n",
      "                                   aten::to         0.00%       1.000us         0.01%     294.000us     294.000us             1  \n",
      "                             aten::_to_copy         0.00%       4.000us         0.01%     293.000us     293.000us             1  \n",
      "                        aten::empty_strided         0.00%       1.000us         0.00%       1.000us       1.000us             1  \n",
      "                                aten::copy_         0.01%     288.000us         0.01%     288.000us     288.000us             1  \n",
      "                               aten::argmin         0.02%       1.057ms         0.02%       1.057ms       1.057ms             1  \n",
      "                           aten::as_strided         0.00%       0.000us         0.00%       0.000us       0.000us             1  \n",
      "                               aten::cumsum         0.00%      23.000us         0.00%      40.000us      40.000us             1  \n",
      "                                   aten::to         0.00%       2.000us         0.00%      17.000us      17.000us             1  \n",
      "                             aten::_to_copy         0.00%       5.000us         0.00%      15.000us      15.000us             1  \n",
      "                        aten::empty_strided         0.00%       2.000us         0.00%       2.000us       2.000us             1  \n",
      "                                aten::copy_         0.00%       8.000us         0.00%       8.000us       8.000us             1  \n",
      "                               aten::select         0.00%       6.000us         0.00%       7.000us       7.000us             1  \n",
      "                           aten::as_strided         0.00%       1.000us         0.00%       1.000us       1.000us             1  \n",
      "                                   aten::to         0.00%       0.000us         0.00%       0.000us       0.000us             1  \n",
      "                              aten::reshape         0.00%       5.000us         0.00%       6.000us       6.000us             1  \n",
      "                       aten::_reshape_alias         0.00%       1.000us         0.00%       1.000us       1.000us             1  \n",
      "                            aten::full_like         0.00%     162.000us         0.00%     170.000us     170.000us             1  \n",
      "                           aten::empty_like         0.00%       2.000us         0.00%       3.000us       3.000us             1  \n",
      "                        aten::empty_strided         0.00%       1.000us         0.00%       1.000us       1.000us             1  \n",
      "                                aten::fill_         0.00%       5.000us         0.00%       5.000us       5.000us             1  \n",
      "                                  aten::cat         0.00%       7.000us         0.00%      10.000us      10.000us             1  \n",
      "                               aten::narrow         0.00%       2.000us         0.00%       3.000us       3.000us             1  \n",
      "                                aten::slice         0.00%       1.000us         0.00%       1.000us       1.000us             1  \n",
      "                           aten::as_strided         0.00%       0.000us         0.00%       0.000us       0.000us             1  \n",
      "                               aten::narrow         0.00%       0.000us         0.00%       0.000us       0.000us             1  \n",
      "                                aten::slice         0.00%       0.000us         0.00%       0.000us       0.000us             1  \n",
      "                           aten::as_strided         0.00%       0.000us         0.00%       0.000us       0.000us             1  \n",
      "                                   aten::to         0.00%       0.000us         0.00%       0.000us       0.000us             1  \n",
      "                  aten::_nested_from_padded         0.03%       1.650ms         0.12%       6.865ms       6.865ms             1  \n",
      "                               aten::unbind         0.00%     148.000us         0.00%     151.000us     151.000us             1  \n",
      "                               aten::select         0.00%       3.000us         0.00%       3.000us       3.000us             1  \n",
      "                           aten::as_strided         0.00%       0.000us         0.00%       0.000us       0.000us             1  \n",
      "                               aten::select         0.00%       0.000us         0.00%       0.000us       0.000us             1  \n",
      "                           aten::as_strided         0.00%       0.000us         0.00%       0.000us       0.000us             1  \n",
      "                               aten::select         0.00%       0.000us         0.00%       0.000us       0.000us             1  \n",
      "                           aten::as_strided         0.00%       0.000us         0.00%       0.000us       0.000us             1  \n",
      "                             aten::new_full         0.00%     246.000us         0.00%     251.000us     251.000us             1  \n",
      "                            aten::new_empty         0.00%       2.000us         0.00%       4.000us       4.000us             1  \n",
      "                                aten::empty         0.00%       2.000us         0.00%       2.000us       2.000us             1  \n",
      "                                aten::fill_         0.00%       1.000us         0.00%       1.000us       1.000us             1  \n",
      "                      aten::constant_pad_nd         0.00%      18.000us         0.00%      62.000us      62.000us             1  \n",
      "                                aten::empty         0.00%       1.000us         0.00%       1.000us       1.000us             1  \n",
      "-------------------------------------------  ------------  ------------  ------------  ------------  ------------  ------------  \n",
      "Self CPU time total: 5.539s\n",
      "\n"
     ]
    }
   ],
   "source": [
    "with torch.autograd.profiler.profile(use_cuda=False) as prof:\n",
    "    with torch.no_grad():\n",
    "        for i in range(INTERATION):\n",
    "            output = model(model_input)\n",
    "print(prof)"
   ]
  },
  {
   "cell_type": "markdown",
   "metadata": {},
   "source": [
    "Run and benchmark inference on DEVICE with and without fastpath (native mha only)"
   ]
  },
  {
   "cell_type": "markdown",
   "metadata": {},
   "source": [
    "We check the bt sparsity setting"
   ]
  },
  {
   "cell_type": "code",
   "execution_count": 10,
   "metadata": {},
   "outputs": [
    {
     "data": {
      "text/plain": [
       "True"
      ]
     },
     "execution_count": 10,
     "metadata": {},
     "output_type": "execute_result"
    }
   ],
   "source": [
    "model.encoder.transformer.layers.enable_nested_tensor"
   ]
  },
  {
   "cell_type": "markdown",
   "metadata": {},
   "source": [
    "We will need to disbale it"
   ]
  },
  {
   "cell_type": "code",
   "execution_count": 11,
   "metadata": {},
   "outputs": [],
   "source": [
    "model.encoder.transformer.layers.enable_nested_tensor=False"
   ]
  },
  {
   "cell_type": "markdown",
   "metadata": {},
   "source": [
    "We run the model on device, and collect profile information for native mha execution on device\n",
    "- first we uses traditional slow path execution\n",
    "- The second part we enable bt fastpath execution by putting the model in inference mode using model.eval and disable gradient collection"
   ]
  },
  {
   "cell_type": "code",
   "execution_count": 12,
   "metadata": {},
   "outputs": [],
   "source": [
    "model.to(DEVICE)\n",
    "model_input = model_input.to(DEVICE)"
   ]
  },
  {
   "cell_type": "markdown",
   "metadata": {},
   "source": [
    "slow path"
   ]
  },
  {
   "cell_type": "code",
   "execution_count": 13,
   "metadata": {},
   "outputs": [
    {
     "name": "stderr",
     "output_type": "stream",
     "text": [
      "/Users/eric/venv-metal/lib/python3.9/site-packages/torch/autograd/profiler.py:228: UserWarning: CUDA is not available, disabling CUDA profiling\n",
      "  warn(\"CUDA is not available, disabling CUDA profiling\")\n",
      "STAGE:2024-08-06 06:23:23 26961:5551113 ActivityProfilerController.cpp:314] Completed Stage: Warm Up\n",
      "STAGE:2024-08-06 06:23:36 26961:5551113 ActivityProfilerController.cpp:320] Completed Stage: Collection\n",
      "STAGE:2024-08-06 06:23:36 26961:5551113 ActivityProfilerController.cpp:324] Completed Stage: Post Processing\n"
     ]
    },
    {
     "name": "stdout",
     "output_type": "stream",
     "text": [
      "-----------------------------------------------------  ------------  ------------  ------------  ------------  ------------  ------------  \n",
      "                                                 Name    Self CPU %      Self CPU   CPU total %     CPU total  CPU time avg    # of Calls  \n",
      "-----------------------------------------------------  ------------  ------------  ------------  ------------  ------------  ------------  \n",
      "                                             aten::eq         0.00%      18.000us         0.00%      18.000us      18.000us             1  \n",
      "                                      aten::embedding         0.00%      27.000us         0.00%     492.000us     492.000us             1  \n",
      "                                        aten::reshape         0.00%       1.000us         0.00%       3.000us       3.000us             1  \n",
      "                                           aten::view         0.00%       2.000us         0.00%       2.000us       2.000us             1  \n",
      "                                   aten::index_select         0.00%     454.000us         0.00%     459.000us     459.000us             1  \n",
      "                                          aten::empty         0.00%       1.000us         0.00%       1.000us       1.000us             1  \n",
      "                                         aten::select         0.00%       3.000us         0.00%       4.000us       4.000us             1  \n",
      "                                     aten::as_strided         0.00%       1.000us         0.00%       1.000us       1.000us             1  \n",
      "                                         aten::select         0.00%       0.000us         0.00%       0.000us       0.000us             1  \n",
      "                                     aten::as_strided         0.00%       0.000us         0.00%       0.000us       0.000us             1  \n",
      "                                           aten::view         0.00%       3.000us         0.00%       3.000us       3.000us             1  \n",
      "                                             aten::ne         0.00%      15.000us         0.00%      15.000us      15.000us             1  \n",
      "                                             aten::to         0.00%       2.000us         0.00%      18.000us      18.000us             1  \n",
      "                                       aten::_to_copy         0.00%       7.000us         0.00%      16.000us      16.000us             1  \n",
      "                                  aten::empty_strided         0.00%       2.000us         0.00%       2.000us       2.000us             1  \n",
      "                                          aten::copy_         0.00%       7.000us         0.00%       7.000us       7.000us             1  \n",
      "                                         aten::cumsum         0.00%       8.000us         0.00%       8.000us       8.000us             1  \n",
      "                                             aten::to         0.00%       0.000us         0.00%       0.000us       0.000us             1  \n",
      "                                            aten::mul         0.00%       6.000us         0.00%       6.000us       6.000us             1  \n",
      "                                            aten::add         0.00%       6.000us         0.00%       6.000us       6.000us             1  \n",
      "                                      aten::embedding         0.00%      15.000us         0.00%     270.000us     270.000us             1  \n",
      "                                        aten::reshape         0.00%       1.000us         0.00%       2.000us       2.000us             1  \n",
      "                                           aten::view         0.00%       1.000us         0.00%       1.000us       1.000us             1  \n",
      "                                   aten::index_select         0.00%     245.000us         0.00%     252.000us     252.000us             1  \n",
      "                                          aten::empty         0.00%       1.000us         0.00%       1.000us       1.000us             1  \n",
      "                                         aten::select         0.00%       4.000us         0.00%       5.000us       5.000us             1  \n",
      "                                     aten::as_strided         0.00%       1.000us         0.00%       1.000us       1.000us             1  \n",
      "                                         aten::select         0.00%       1.000us         0.00%       1.000us       1.000us             1  \n",
      "                                     aten::as_strided         0.00%       0.000us         0.00%       0.000us       0.000us             1  \n",
      "                                           aten::view         0.00%       1.000us         0.00%       1.000us       1.000us             1  \n",
      "                                            aten::add         0.00%     361.000us         0.00%     361.000us     361.000us             1  \n",
      "                                     aten::layer_norm         0.00%       3.000us         0.00%     431.000us     431.000us             1  \n",
      "                              aten::native_layer_norm         0.00%     424.000us         0.00%     428.000us     428.000us             1  \n",
      "                                          aten::empty         0.00%       1.000us         0.00%       1.000us       1.000us             1  \n",
      "                                          aten::empty         0.00%       0.000us         0.00%       0.000us       0.000us             1  \n",
      "                                          aten::empty         0.00%       0.000us         0.00%       0.000us       0.000us             1  \n",
      "                                           aten::view         0.00%       3.000us         0.00%       3.000us       3.000us             1  \n",
      "                                           aten::view         0.00%       0.000us         0.00%       0.000us       0.000us             1  \n",
      "                                        aten::dropout         0.00%       0.000us         0.00%       0.000us       0.000us             1  \n",
      "                                     aten::zeros_like         0.00%       6.000us         0.00%      12.000us      12.000us             1  \n",
      "                                     aten::empty_like         0.00%       2.000us         0.00%       6.000us       6.000us             1  \n",
      "                                  aten::empty_strided         0.00%       4.000us         0.00%       4.000us       4.000us             1  \n",
      "                                          aten::zero_         0.00%       1.000us         0.00%       1.000us       1.000us             1  \n",
      "                                   aten::masked_fill_         0.00%       8.000us         0.00%       8.000us       8.000us             1  \n",
      "                                      aten::transpose         0.00%      10.000us         0.00%      12.000us      12.000us             1  \n",
      "                                     aten::as_strided         0.00%       2.000us         0.00%       2.000us       2.000us             1  \n",
      "                                         aten::linear         0.00%      31.000us         0.06%       7.740ms       7.740ms             1  \n",
      "                                              aten::t         0.00%      14.000us         0.00%      16.000us      16.000us             1  \n",
      "                                      aten::transpose         0.00%       1.000us         0.00%       2.000us       2.000us             1  \n",
      "                                     aten::as_strided         0.00%       1.000us         0.00%       1.000us       1.000us             1  \n",
      "                                         aten::matmul         0.00%      12.000us         0.06%       7.526ms       7.526ms             1  \n",
      "                                        aten::reshape         0.00%       9.000us         0.00%     322.000us     322.000us             1  \n",
      "                                          aten::clone         0.00%       6.000us         0.00%     309.000us     309.000us             1  \n",
      "                                     aten::empty_like         0.00%       1.000us         0.00%       1.000us       1.000us             1  \n",
      "                                          aten::empty         0.00%       0.000us         0.00%       0.000us       0.000us             1  \n",
      "                                          aten::copy_         0.00%     302.000us         0.00%     302.000us     302.000us             1  \n",
      "                                   aten::_unsafe_view         0.00%       4.000us         0.00%       4.000us       4.000us             1  \n",
      "                                             aten::mm         0.06%       7.185ms         0.06%       7.185ms       7.185ms             1  \n",
      "                                   aten::resolve_conj         0.00%       0.000us         0.00%       0.000us       0.000us             1  \n",
      "                                   aten::resolve_conj         0.00%       0.000us         0.00%       0.000us       0.000us             1  \n",
      "                                   aten::_unsafe_view         0.00%       7.000us         0.00%       7.000us       7.000us             1  \n",
      "                                           aten::add_         0.00%     167.000us         0.00%     167.000us     167.000us             1  \n",
      "                                      aten::unflatten         0.00%       3.000us         0.00%       7.000us       7.000us             1  \n",
      "                                           aten::view         0.00%       4.000us         0.00%       4.000us       4.000us             1  \n",
      "                                      aten::unsqueeze         0.00%       3.000us         0.00%       4.000us       4.000us             1  \n",
      "                                     aten::as_strided         0.00%       1.000us         0.00%       1.000us       1.000us             1  \n",
      "                                      aten::transpose         0.00%       3.000us         0.00%       3.000us       3.000us             1  \n",
      "                                     aten::as_strided         0.00%       0.000us         0.00%       0.000us       0.000us             1  \n",
      "                                        aten::squeeze         0.00%       3.000us         0.00%       3.000us       3.000us             1  \n",
      "                                     aten::as_strided         0.00%       0.000us         0.00%       0.000us       0.000us             1  \n",
      "                                     aten::contiguous         0.00%       1.000us         0.01%       1.162ms       1.162ms             1  \n",
      "                                          aten::clone         0.00%      13.000us         0.01%       1.161ms       1.161ms             1  \n",
      "                                     aten::empty_like         0.00%       1.000us         0.00%       4.000us       4.000us             1  \n",
      "                                          aten::empty         0.00%       3.000us         0.00%       3.000us       3.000us             1  \n",
      "                                          aten::copy_         0.01%       1.144ms         0.01%       1.144ms       1.144ms             1  \n",
      "                                         aten::select         0.00%      16.000us         0.00%      19.000us      19.000us             1  \n",
      "                                     aten::as_strided         0.00%       3.000us         0.00%       3.000us       3.000us             1  \n",
      "                                         aten::select         0.00%       4.000us         0.00%       4.000us       4.000us             1  \n",
      "                                     aten::as_strided         0.00%       0.000us         0.00%       0.000us       0.000us             1  \n",
      "                                         aten::select         0.00%       3.000us         0.00%       3.000us       3.000us             1  \n",
      "                                     aten::as_strided         0.00%       0.000us         0.00%       0.000us       0.000us             1  \n",
      "                                           aten::view         0.00%       6.000us         0.00%       6.000us       6.000us             1  \n",
      "                                      aten::transpose         0.00%       4.000us         0.00%       5.000us       5.000us             1  \n",
      "                                     aten::as_strided         0.00%       1.000us         0.00%       1.000us       1.000us             1  \n",
      "                                           aten::view         0.00%       1.000us         0.00%       1.000us       1.000us             1  \n",
      "                                      aten::transpose         0.00%       2.000us         0.00%       2.000us       2.000us             1  \n",
      "                                     aten::as_strided         0.00%       0.000us         0.00%       0.000us       0.000us             1  \n",
      "                                           aten::view         0.00%       1.000us         0.00%       1.000us       1.000us             1  \n",
      "                                      aten::transpose         0.00%       1.000us         0.00%       1.000us       1.000us             1  \n",
      "                                     aten::as_strided         0.00%       0.000us         0.00%       0.000us       0.000us             1  \n",
      "                                           aten::view         0.00%       1.000us         0.00%       1.000us       1.000us             1  \n",
      "                                         aten::expand         0.00%       9.000us         0.00%      11.000us      11.000us             1  \n",
      "                                     aten::as_strided         0.00%       2.000us         0.00%       2.000us       2.000us             1  \n",
      "                                        aten::reshape         0.00%      10.000us         0.00%      38.000us      38.000us             1  \n",
      "                                          aten::clone         0.00%       4.000us         0.00%      25.000us      25.000us             1  \n",
      "                                     aten::empty_like         0.00%       2.000us         0.00%       7.000us       7.000us             1  \n",
      "                                          aten::empty         0.00%       5.000us         0.00%       5.000us       5.000us             1  \n",
      "                                          aten::copy_         0.00%      14.000us         0.00%      14.000us      14.000us             1  \n",
      "                                   aten::_unsafe_view         0.00%       3.000us         0.00%       3.000us       3.000us             1  \n",
      "                                           aten::view         0.00%       2.000us         0.00%       2.000us       2.000us             1  \n",
      "-----------------------------------------------------  ------------  ------------  ------------  ------------  ------------  ------------  \n",
      "Self CPU time total: 12.070s\n",
      "\n"
     ]
    },
    {
     "data": {
      "text/plain": [
       "RobertaModel(\n",
       "  (encoder): RobertaEncoder(\n",
       "    (transformer): TransformerEncoder(\n",
       "      (token_embedding): Embedding(250002, 1024, padding_idx=1)\n",
       "      (layers): TransformerEncoder(\n",
       "        (layers): ModuleList(\n",
       "          (0-23): 24 x TransformerEncoderLayer(\n",
       "            (self_attn): MultiheadAttention(\n",
       "              (out_proj): NonDynamicallyQuantizableLinear(in_features=1024, out_features=1024, bias=True)\n",
       "            )\n",
       "            (linear1): Linear(in_features=1024, out_features=4096, bias=True)\n",
       "            (dropout): Dropout(p=0.1, inplace=False)\n",
       "            (linear2): Linear(in_features=4096, out_features=1024, bias=True)\n",
       "            (norm1): LayerNorm((1024,), eps=1e-05, elementwise_affine=True)\n",
       "            (norm2): LayerNorm((1024,), eps=1e-05, elementwise_affine=True)\n",
       "            (dropout1): Dropout(p=0.1, inplace=False)\n",
       "            (dropout2): Dropout(p=0.1, inplace=False)\n",
       "          )\n",
       "        )\n",
       "      )\n",
       "      (positional_embedding): PositionalEmbedding(\n",
       "        (embedding): Embedding(514, 1024, padding_idx=1)\n",
       "      )\n",
       "      (embedding_layer_norm): LayerNorm((1024,), eps=1e-05, elementwise_affine=True)\n",
       "      (dropout): Dropout(p=0.1, inplace=False)\n",
       "    )\n",
       "  )\n",
       "  (head): RobertaClassificationHead(\n",
       "    (dense): Linear(in_features=1024, out_features=1024, bias=True)\n",
       "    (dropout): Dropout(p=0.1, inplace=False)\n",
       "    (out_proj): Linear(in_features=1024, out_features=2, bias=True)\n",
       "    (activation_fn): ReLU()\n",
       "  )\n",
       ")"
      ]
     },
     "execution_count": 13,
     "metadata": {},
     "output_type": "execute_result"
    }
   ],
   "source": [
    "with torch.autograd.profiler.profile(use_cuda=True) as prof:\n",
    "    for i in range(INTERATION):\n",
    "        output = model(model_input)\n",
    "print(prof)\n",
    "\n",
    "model.eval()"
   ]
  },
  {
   "cell_type": "markdown",
   "metadata": {},
   "source": [
    "fast path"
   ]
  },
  {
   "cell_type": "code",
   "execution_count": 14,
   "metadata": {},
   "outputs": [
    {
     "name": "stderr",
     "output_type": "stream",
     "text": [
      "STAGE:2024-08-06 06:23:38 26961:5551113 ActivityProfilerController.cpp:314] Completed Stage: Warm Up\n",
      "STAGE:2024-08-06 06:23:44 26961:5551113 ActivityProfilerController.cpp:320] Completed Stage: Collection\n",
      "STAGE:2024-08-06 06:23:44 26961:5551113 ActivityProfilerController.cpp:324] Completed Stage: Post Processing\n"
     ]
    },
    {
     "name": "stdout",
     "output_type": "stream",
     "text": [
      "-------------------------------------------  ------------  ------------  ------------  ------------  ------------  ------------  \n",
      "                                       Name    Self CPU %      Self CPU   CPU total %     CPU total  CPU time avg    # of Calls  \n",
      "-------------------------------------------  ------------  ------------  ------------  ------------  ------------  ------------  \n",
      "                                   aten::eq         0.00%      84.000us         0.00%      84.000us      84.000us             1  \n",
      "                            aten::embedding         0.00%      48.000us         0.02%       1.361ms       1.361ms             1  \n",
      "                              aten::reshape         0.00%       2.000us         0.00%       5.000us       5.000us             1  \n",
      "                                 aten::view         0.00%       3.000us         0.00%       3.000us       3.000us             1  \n",
      "                         aten::index_select         0.02%       1.258ms         0.02%       1.304ms       1.304ms             1  \n",
      "                                aten::empty         0.00%      18.000us         0.00%      18.000us      18.000us             1  \n",
      "                               aten::select         0.00%      24.000us         0.00%      26.000us      26.000us             1  \n",
      "                           aten::as_strided         0.00%       2.000us         0.00%       2.000us       2.000us             1  \n",
      "                               aten::select         0.00%       1.000us         0.00%       2.000us       2.000us             1  \n",
      "                           aten::as_strided         0.00%       1.000us         0.00%       1.000us       1.000us             1  \n",
      "                                 aten::view         0.00%       4.000us         0.00%       4.000us       4.000us             1  \n",
      "                                   aten::ne         0.00%      23.000us         0.00%      23.000us      23.000us             1  \n",
      "                                   aten::to         0.00%       3.000us         0.00%      30.000us      30.000us             1  \n",
      "                             aten::_to_copy         0.00%      15.000us         0.00%      27.000us      27.000us             1  \n",
      "                        aten::empty_strided         0.00%       3.000us         0.00%       3.000us       3.000us             1  \n",
      "                                aten::copy_         0.00%       9.000us         0.00%       9.000us       9.000us             1  \n",
      "                               aten::cumsum         0.00%       9.000us         0.00%       9.000us       9.000us             1  \n",
      "                                   aten::to         0.00%       0.000us         0.00%       0.000us       0.000us             1  \n",
      "                                  aten::mul         0.00%       7.000us         0.00%       7.000us       7.000us             1  \n",
      "                                  aten::add         0.00%       7.000us         0.00%       7.000us       7.000us             1  \n",
      "                            aten::embedding         0.00%      12.000us         0.01%     732.000us     732.000us             1  \n",
      "                              aten::reshape         0.00%       1.000us         0.00%       2.000us       2.000us             1  \n",
      "                                 aten::view         0.00%       1.000us         0.00%       1.000us       1.000us             1  \n",
      "                         aten::index_select         0.01%     706.000us         0.01%     717.000us     717.000us             1  \n",
      "                                aten::empty         0.00%       1.000us         0.00%       1.000us       1.000us             1  \n",
      "                               aten::select         0.00%       8.000us         0.00%       9.000us       9.000us             1  \n",
      "                           aten::as_strided         0.00%       1.000us         0.00%       1.000us       1.000us             1  \n",
      "                               aten::select         0.00%       1.000us         0.00%       1.000us       1.000us             1  \n",
      "                           aten::as_strided         0.00%       0.000us         0.00%       0.000us       0.000us             1  \n",
      "                                 aten::view         0.00%       1.000us         0.00%       1.000us       1.000us             1  \n",
      "                                  aten::add         0.02%       1.337ms         0.02%       1.337ms       1.337ms             1  \n",
      "                           aten::layer_norm         0.00%       6.000us         0.02%       1.282ms       1.282ms             1  \n",
      "                    aten::native_layer_norm         0.02%       1.267ms         0.02%       1.276ms       1.276ms             1  \n",
      "                                aten::empty         0.00%       4.000us         0.00%       4.000us       4.000us             1  \n",
      "                                aten::empty         0.00%       1.000us         0.00%       1.000us       1.000us             1  \n",
      "                                aten::empty         0.00%       0.000us         0.00%       0.000us       0.000us             1  \n",
      "                                 aten::view         0.00%       4.000us         0.00%       4.000us       4.000us             1  \n",
      "                                 aten::view         0.00%       0.000us         0.00%       0.000us       0.000us             1  \n",
      "                              aten::dropout         0.00%       1.000us         0.00%       1.000us       1.000us             1  \n",
      "                           aten::zeros_like         0.00%       7.000us         0.00%      10.000us      10.000us             1  \n",
      "                           aten::empty_like         0.00%       1.000us         0.00%       3.000us       3.000us             1  \n",
      "                        aten::empty_strided         0.00%       2.000us         0.00%       2.000us       2.000us             1  \n",
      "                                aten::zero_         0.00%       0.000us         0.00%       0.000us       0.000us             1  \n",
      "                         aten::masked_fill_         0.00%       8.000us         0.00%       8.000us       8.000us             1  \n",
      "                          aten::logical_not         0.00%     161.000us         0.00%     171.000us     171.000us             1  \n",
      "                                aten::empty         0.00%       1.000us         0.00%       1.000us       1.000us             1  \n",
      "                          aten::logical_not         0.00%       9.000us         0.00%       9.000us       9.000us             1  \n",
      "             aten::_nested_tensor_from_mask         0.00%     207.000us         0.10%       6.230ms       6.230ms             1  \n",
      "                                aten::zeros         0.00%       6.000us         0.00%       7.000us       7.000us             1  \n",
      "                                aten::empty         0.00%       1.000us         0.00%       1.000us       1.000us             1  \n",
      "                                aten::zero_         0.00%       0.000us         0.00%       0.000us       0.000us             1  \n",
      "                                  aten::cat         0.00%      17.000us         0.00%      30.000us      30.000us             1  \n",
      "                               aten::narrow         0.00%       8.000us         0.00%      12.000us      12.000us             1  \n",
      "                                aten::slice         0.00%       2.000us         0.00%       4.000us       4.000us             1  \n",
      "                           aten::as_strided         0.00%       2.000us         0.00%       2.000us       2.000us             1  \n",
      "                               aten::narrow         0.00%       1.000us         0.00%       1.000us       1.000us             1  \n",
      "                                aten::slice         0.00%       0.000us         0.00%       0.000us       0.000us             1  \n",
      "                           aten::as_strided         0.00%       0.000us         0.00%       0.000us       0.000us             1  \n",
      "                                   aten::to         0.00%       1.000us         0.00%      10.000us      10.000us             1  \n",
      "                             aten::_to_copy         0.00%       3.000us         0.00%       9.000us       9.000us             1  \n",
      "                        aten::empty_strided         0.00%       1.000us         0.00%       1.000us       1.000us             1  \n",
      "                                aten::copy_         0.00%       5.000us         0.00%       5.000us       5.000us             1  \n",
      "                               aten::argmin         0.00%      15.000us         0.00%      15.000us      15.000us             1  \n",
      "                           aten::as_strided         0.00%       0.000us         0.00%       0.000us       0.000us             1  \n",
      "                               aten::cumsum         0.00%       4.000us         0.00%       7.000us       7.000us             1  \n",
      "                                   aten::to         0.00%       1.000us         0.00%       3.000us       3.000us             1  \n",
      "                             aten::_to_copy         0.00%       1.000us         0.00%       2.000us       2.000us             1  \n",
      "                        aten::empty_strided         0.00%       0.000us         0.00%       0.000us       0.000us             1  \n",
      "                                aten::copy_         0.00%       1.000us         0.00%       1.000us       1.000us             1  \n",
      "                               aten::select         0.00%       2.000us         0.00%       2.000us       2.000us             1  \n",
      "                           aten::as_strided         0.00%       0.000us         0.00%       0.000us       0.000us             1  \n",
      "                                   aten::to         0.00%       0.000us         0.00%       0.000us       0.000us             1  \n",
      "                              aten::reshape         0.00%       8.000us         0.00%       9.000us       9.000us             1  \n",
      "                       aten::_reshape_alias         0.00%       1.000us         0.00%       1.000us       1.000us             1  \n",
      "                            aten::full_like         0.00%     169.000us         0.00%     176.000us     176.000us             1  \n",
      "                           aten::empty_like         0.00%       1.000us         0.00%       1.000us       1.000us             1  \n",
      "                        aten::empty_strided         0.00%       0.000us         0.00%       0.000us       0.000us             1  \n",
      "                                aten::fill_         0.00%       6.000us         0.00%       6.000us       6.000us             1  \n",
      "                                  aten::cat         0.00%       7.000us         0.00%      11.000us      11.000us             1  \n",
      "                               aten::narrow         0.00%       2.000us         0.00%       3.000us       3.000us             1  \n",
      "                                aten::slice         0.00%       1.000us         0.00%       1.000us       1.000us             1  \n",
      "                           aten::as_strided         0.00%       0.000us         0.00%       0.000us       0.000us             1  \n",
      "                               aten::narrow         0.00%       1.000us         0.00%       1.000us       1.000us             1  \n",
      "                                aten::slice         0.00%       0.000us         0.00%       0.000us       0.000us             1  \n",
      "                           aten::as_strided         0.00%       0.000us         0.00%       0.000us       0.000us             1  \n",
      "                                   aten::to         0.00%       1.000us         0.00%       1.000us       1.000us             1  \n",
      "                  aten::_nested_from_padded         0.01%     391.000us         0.10%       5.755ms       5.755ms             1  \n",
      "                               aten::unbind         0.00%       4.000us         0.00%       5.000us       5.000us             1  \n",
      "                               aten::select         0.00%       1.000us         0.00%       1.000us       1.000us             1  \n",
      "                           aten::as_strided         0.00%       0.000us         0.00%       0.000us       0.000us             1  \n",
      "                               aten::select         0.00%       0.000us         0.00%       0.000us       0.000us             1  \n",
      "                           aten::as_strided         0.00%       0.000us         0.00%       0.000us       0.000us             1  \n",
      "                               aten::select         0.00%       0.000us         0.00%       0.000us       0.000us             1  \n",
      "                           aten::as_strided         0.00%       0.000us         0.00%       0.000us       0.000us             1  \n",
      "                             aten::new_full         0.00%       6.000us         0.00%      10.000us      10.000us             1  \n",
      "                            aten::new_empty         0.00%       1.000us         0.00%       2.000us       2.000us             1  \n",
      "                                aten::empty         0.00%       1.000us         0.00%       1.000us       1.000us             1  \n",
      "                                aten::fill_         0.00%       2.000us         0.00%       2.000us       2.000us             1  \n",
      "                      aten::constant_pad_nd         0.00%       6.000us         0.00%      34.000us      34.000us             1  \n",
      "                                aten::empty         0.00%       1.000us         0.00%       1.000us       1.000us             1  \n",
      "-------------------------------------------  ------------  ------------  ------------  ------------  ------------  ------------  \n",
      "Self CPU time total: 5.942s\n",
      "\n"
     ]
    }
   ],
   "source": [
    "with torch.autograd.profiler.profile(use_cuda=True) as prof:\n",
    "    with torch.no_grad():\n",
    "        for i in range(INTERATION):\n",
    "            output = model(model_input)\n",
    "print(prof)"
   ]
  },
  {
   "cell_type": "markdown",
   "metadata": {},
   "source": [
    "### Run and benchmark inference without bt fastpath"
   ]
  },
  {
   "cell_type": "markdown",
   "metadata": {},
   "source": [
    "We enable sparsity support"
   ]
  },
  {
   "cell_type": "code",
   "execution_count": 15,
   "metadata": {},
   "outputs": [],
   "source": [
    "model.encoder.transformer.layers.enable_nested_tensor = True"
   ]
  },
  {
   "cell_type": "markdown",
   "metadata": {},
   "source": [
    "slow path"
   ]
  },
  {
   "cell_type": "code",
   "execution_count": 16,
   "metadata": {},
   "outputs": [],
   "source": [
    "model.to(DEVICE)\n",
    "model_input = model_input.to(DEVICE)"
   ]
  },
  {
   "cell_type": "code",
   "execution_count": 17,
   "metadata": {},
   "outputs": [
    {
     "name": "stderr",
     "output_type": "stream",
     "text": [
      "STAGE:2024-08-06 06:23:56 26961:5551113 ActivityProfilerController.cpp:314] Completed Stage: Warm Up\n",
      "STAGE:2024-08-06 06:24:07 26961:5551113 ActivityProfilerController.cpp:320] Completed Stage: Collection\n",
      "STAGE:2024-08-06 06:24:07 26961:5551113 ActivityProfilerController.cpp:324] Completed Stage: Post Processing\n"
     ]
    },
    {
     "name": "stdout",
     "output_type": "stream",
     "text": [
      "-----------------------------------------------------  ------------  ------------  ------------  ------------  ------------  ------------  \n",
      "                                                 Name    Self CPU %      Self CPU   CPU total %     CPU total  CPU time avg    # of Calls  \n",
      "-----------------------------------------------------  ------------  ------------  ------------  ------------  ------------  ------------  \n",
      "                                             aten::eq         0.00%      20.000us         0.00%      20.000us      20.000us             1  \n",
      "                                      aten::embedding         0.00%      18.000us         0.00%     236.000us     236.000us             1  \n",
      "                                        aten::reshape         0.00%       2.000us         0.00%       3.000us       3.000us             1  \n",
      "                                           aten::view         0.00%       1.000us         0.00%       1.000us       1.000us             1  \n",
      "                                   aten::index_select         0.00%     206.000us         0.00%     214.000us     214.000us             1  \n",
      "                                          aten::empty         0.00%       2.000us         0.00%       2.000us       2.000us             1  \n",
      "                                         aten::select         0.00%       5.000us         0.00%       6.000us       6.000us             1  \n",
      "                                     aten::as_strided         0.00%       1.000us         0.00%       1.000us       1.000us             1  \n",
      "                                         aten::select         0.00%       0.000us         0.00%       0.000us       0.000us             1  \n",
      "                                     aten::as_strided         0.00%       0.000us         0.00%       0.000us       0.000us             1  \n",
      "                                           aten::view         0.00%       1.000us         0.00%       1.000us       1.000us             1  \n",
      "                                             aten::ne         0.00%       8.000us         0.00%       8.000us       8.000us             1  \n",
      "                                             aten::to         0.00%      13.000us         0.00%      13.000us      13.000us             1  \n",
      "                                       aten::_to_copy         0.00%       5.000us         0.00%      12.000us      12.000us             1  \n",
      "                                  aten::empty_strided         0.00%       2.000us         0.00%       2.000us       2.000us             1  \n",
      "                                          aten::copy_         0.00%       5.000us         0.00%       5.000us       5.000us             1  \n",
      "                                         aten::cumsum         0.00%       7.000us         0.00%       7.000us       7.000us             1  \n",
      "                                             aten::to         0.00%       0.000us         0.00%       0.000us       0.000us             1  \n",
      "                                            aten::mul         0.00%       4.000us         0.00%       4.000us       4.000us             1  \n",
      "                                            aten::add         0.00%      45.000us         0.00%      45.000us      45.000us             1  \n",
      "                                      aten::embedding         0.00%       9.000us         0.00%     212.000us     212.000us             1  \n",
      "                                        aten::reshape         0.00%       1.000us         0.00%       1.000us       1.000us             1  \n",
      "                                           aten::view         0.00%       0.000us         0.00%       0.000us       0.000us             1  \n",
      "                                   aten::index_select         0.00%     197.000us         0.00%     202.000us     202.000us             1  \n",
      "                                          aten::empty         0.00%       0.000us         0.00%       0.000us       0.000us             1  \n",
      "                                         aten::select         0.00%       1.000us         0.00%       3.000us       3.000us             1  \n",
      "                                     aten::as_strided         0.00%       2.000us         0.00%       2.000us       2.000us             1  \n",
      "                                         aten::select         0.00%       1.000us         0.00%       2.000us       2.000us             1  \n",
      "                                     aten::as_strided         0.00%       1.000us         0.00%       1.000us       1.000us             1  \n",
      "                                           aten::view         0.00%       0.000us         0.00%       0.000us       0.000us             1  \n",
      "                                            aten::add         0.00%     311.000us         0.00%     311.000us     311.000us             1  \n",
      "                                     aten::layer_norm         0.00%       4.000us         0.00%     340.000us     340.000us             1  \n",
      "                              aten::native_layer_norm         0.00%     328.000us         0.00%     336.000us     336.000us             1  \n",
      "                                          aten::empty         0.00%       6.000us         0.00%       6.000us       6.000us             1  \n",
      "                                          aten::empty         0.00%       0.000us         0.00%       0.000us       0.000us             1  \n",
      "                                          aten::empty         0.00%       1.000us         0.00%       1.000us       1.000us             1  \n",
      "                                           aten::view         0.00%       1.000us         0.00%       1.000us       1.000us             1  \n",
      "                                           aten::view         0.00%       0.000us         0.00%       0.000us       0.000us             1  \n",
      "                                        aten::dropout         0.00%       0.000us         0.00%       0.000us       0.000us             1  \n",
      "                                     aten::zeros_like         0.00%       3.000us         0.00%       5.000us       5.000us             1  \n",
      "                                     aten::empty_like         0.00%       1.000us         0.00%       2.000us       2.000us             1  \n",
      "                                  aten::empty_strided         0.00%       1.000us         0.00%       1.000us       1.000us             1  \n",
      "                                          aten::zero_         0.00%       0.000us         0.00%       0.000us       0.000us             1  \n",
      "                                   aten::masked_fill_         0.00%       5.000us         0.00%       5.000us       5.000us             1  \n",
      "                                      aten::transpose         0.00%       6.000us         0.00%       7.000us       7.000us             1  \n",
      "                                     aten::as_strided         0.00%       1.000us         0.00%       1.000us       1.000us             1  \n",
      "                                         aten::linear         0.00%       7.000us         0.08%       8.661ms       8.661ms             1  \n",
      "                                              aten::t         0.00%      10.000us         0.00%      11.000us      11.000us             1  \n",
      "                                      aten::transpose         0.00%       1.000us         0.00%       1.000us       1.000us             1  \n",
      "                                     aten::as_strided         0.00%       0.000us         0.00%       0.000us       0.000us             1  \n",
      "                                         aten::matmul         0.00%      11.000us         0.08%       8.440ms       8.440ms             1  \n",
      "                                        aten::reshape         0.00%       8.000us         0.00%     217.000us     217.000us             1  \n",
      "                                          aten::clone         0.00%       3.000us         0.00%     206.000us     206.000us             1  \n",
      "                                     aten::empty_like         0.00%       2.000us         0.00%       2.000us       2.000us             1  \n",
      "                                          aten::empty         0.00%       2.000us         0.00%       2.000us       2.000us             1  \n",
      "                                          aten::copy_         0.00%     199.000us         0.00%     199.000us     199.000us             1  \n",
      "                                   aten::_unsafe_view         0.00%       3.000us         0.00%       3.000us       3.000us             1  \n",
      "                                             aten::mm         0.08%       8.204ms         0.08%       8.204ms       8.204ms             1  \n",
      "                                   aten::resolve_conj         0.00%       0.000us         0.00%       0.000us       0.000us             1  \n",
      "                                   aten::resolve_conj         0.00%       0.000us         0.00%       0.000us       0.000us             1  \n",
      "                                   aten::_unsafe_view         0.00%       8.000us         0.00%       8.000us       8.000us             1  \n",
      "                                           aten::add_         0.00%     203.000us         0.00%     203.000us     203.000us             1  \n",
      "                                      aten::unflatten         0.00%       4.000us         0.00%       8.000us       8.000us             1  \n",
      "                                           aten::view         0.00%       4.000us         0.00%       4.000us       4.000us             1  \n",
      "                                      aten::unsqueeze         0.00%       4.000us         0.00%       5.000us       5.000us             1  \n",
      "                                     aten::as_strided         0.00%       1.000us         0.00%       1.000us       1.000us             1  \n",
      "                                      aten::transpose         0.00%       3.000us         0.00%       3.000us       3.000us             1  \n",
      "                                     aten::as_strided         0.00%       0.000us         0.00%       0.000us       0.000us             1  \n",
      "                                        aten::squeeze         0.00%       3.000us         0.00%       3.000us       3.000us             1  \n",
      "                                     aten::as_strided         0.00%       0.000us         0.00%       0.000us       0.000us             1  \n",
      "                                     aten::contiguous         0.00%       1.000us         0.00%     505.000us     505.000us             1  \n",
      "                                          aten::clone         0.00%       9.000us         0.00%     504.000us     504.000us             1  \n",
      "                                     aten::empty_like         0.00%       1.000us         0.00%       4.000us       4.000us             1  \n",
      "                                          aten::empty         0.00%       3.000us         0.00%       3.000us       3.000us             1  \n",
      "                                          aten::copy_         0.00%     491.000us         0.00%     491.000us     491.000us             1  \n",
      "                                         aten::select         0.00%       8.000us         0.00%       9.000us       9.000us             1  \n",
      "                                     aten::as_strided         0.00%       1.000us         0.00%       1.000us       1.000us             1  \n",
      "                                         aten::select         0.00%       2.000us         0.00%       2.000us       2.000us             1  \n",
      "                                     aten::as_strided         0.00%       0.000us         0.00%       0.000us       0.000us             1  \n",
      "                                         aten::select         0.00%       1.000us         0.00%       1.000us       1.000us             1  \n",
      "                                     aten::as_strided         0.00%       0.000us         0.00%       0.000us       0.000us             1  \n",
      "                                           aten::view         0.00%       3.000us         0.00%       3.000us       3.000us             1  \n",
      "                                      aten::transpose         0.00%       2.000us         0.00%       2.000us       2.000us             1  \n",
      "                                     aten::as_strided         0.00%       0.000us         0.00%       0.000us       0.000us             1  \n",
      "                                           aten::view         0.00%       1.000us         0.00%       1.000us       1.000us             1  \n",
      "                                      aten::transpose         0.00%       1.000us         0.00%       1.000us       1.000us             1  \n",
      "                                     aten::as_strided         0.00%       0.000us         0.00%       0.000us       0.000us             1  \n",
      "                                           aten::view         0.00%       1.000us         0.00%       1.000us       1.000us             1  \n",
      "                                      aten::transpose         0.00%       2.000us         0.00%       2.000us       2.000us             1  \n",
      "                                     aten::as_strided         0.00%       0.000us         0.00%       0.000us       0.000us             1  \n",
      "                                           aten::view         0.00%       0.000us         0.00%       0.000us       0.000us             1  \n",
      "                                         aten::expand         0.00%       3.000us         0.00%       3.000us       3.000us             1  \n",
      "                                     aten::as_strided         0.00%       0.000us         0.00%       0.000us       0.000us             1  \n",
      "                                        aten::reshape         0.00%       4.000us         0.00%      19.000us      19.000us             1  \n",
      "                                          aten::clone        -0.00%      -1.000us         0.00%      14.000us      14.000us             1  \n",
      "                                     aten::empty_like         0.00%       3.000us         0.00%       3.000us       3.000us             1  \n",
      "                                          aten::empty         0.00%       3.000us         0.00%       3.000us       3.000us             1  \n",
      "                                          aten::copy_         0.00%       9.000us         0.00%       9.000us       9.000us             1  \n",
      "                                   aten::_unsafe_view         0.00%       1.000us         0.00%       1.000us       1.000us             1  \n",
      "                                           aten::view         0.00%       0.000us         0.00%       0.000us       0.000us             1  \n",
      "-----------------------------------------------------  ------------  ------------  ------------  ------------  ------------  ------------  \n",
      "Self CPU time total: 10.263s\n",
      "\n"
     ]
    },
    {
     "data": {
      "text/plain": [
       "RobertaModel(\n",
       "  (encoder): RobertaEncoder(\n",
       "    (transformer): TransformerEncoder(\n",
       "      (token_embedding): Embedding(250002, 1024, padding_idx=1)\n",
       "      (layers): TransformerEncoder(\n",
       "        (layers): ModuleList(\n",
       "          (0-23): 24 x TransformerEncoderLayer(\n",
       "            (self_attn): MultiheadAttention(\n",
       "              (out_proj): NonDynamicallyQuantizableLinear(in_features=1024, out_features=1024, bias=True)\n",
       "            )\n",
       "            (linear1): Linear(in_features=1024, out_features=4096, bias=True)\n",
       "            (dropout): Dropout(p=0.1, inplace=False)\n",
       "            (linear2): Linear(in_features=4096, out_features=1024, bias=True)\n",
       "            (norm1): LayerNorm((1024,), eps=1e-05, elementwise_affine=True)\n",
       "            (norm2): LayerNorm((1024,), eps=1e-05, elementwise_affine=True)\n",
       "            (dropout1): Dropout(p=0.1, inplace=False)\n",
       "            (dropout2): Dropout(p=0.1, inplace=False)\n",
       "          )\n",
       "        )\n",
       "      )\n",
       "      (positional_embedding): PositionalEmbedding(\n",
       "        (embedding): Embedding(514, 1024, padding_idx=1)\n",
       "      )\n",
       "      (embedding_layer_norm): LayerNorm((1024,), eps=1e-05, elementwise_affine=True)\n",
       "      (dropout): Dropout(p=0.1, inplace=False)\n",
       "    )\n",
       "  )\n",
       "  (head): RobertaClassificationHead(\n",
       "    (dense): Linear(in_features=1024, out_features=1024, bias=True)\n",
       "    (dropout): Dropout(p=0.1, inplace=False)\n",
       "    (out_proj): Linear(in_features=1024, out_features=2, bias=True)\n",
       "    (activation_fn): ReLU()\n",
       "  )\n",
       ")"
      ]
     },
     "execution_count": 17,
     "metadata": {},
     "output_type": "execute_result"
    }
   ],
   "source": [
    "with torch.autograd.profiler.profile(use_cuda=True) as prof:\n",
    "    for i in range(INTERATION):\n",
    "        output = model(model_input)\n",
    "print(prof)\n",
    "\n",
    "model.eval()"
   ]
  },
  {
   "cell_type": "markdown",
   "metadata": {},
   "source": [
    "fast path"
   ]
  },
  {
   "cell_type": "code",
   "execution_count": 18,
   "metadata": {},
   "outputs": [
    {
     "name": "stderr",
     "output_type": "stream",
     "text": [
      "STAGE:2024-08-06 06:24:09 26961:5551113 ActivityProfilerController.cpp:314] Completed Stage: Warm Up\n",
      "STAGE:2024-08-06 06:24:15 26961:5551113 ActivityProfilerController.cpp:320] Completed Stage: Collection\n",
      "STAGE:2024-08-06 06:24:15 26961:5551113 ActivityProfilerController.cpp:324] Completed Stage: Post Processing\n"
     ]
    },
    {
     "name": "stdout",
     "output_type": "stream",
     "text": [
      "-------------------------------------------  ------------  ------------  ------------  ------------  ------------  ------------  \n",
      "                                       Name    Self CPU %      Self CPU   CPU total %     CPU total  CPU time avg    # of Calls  \n",
      "-------------------------------------------  ------------  ------------  ------------  ------------  ------------  ------------  \n",
      "                                   aten::eq         0.00%      22.000us         0.00%      22.000us      22.000us             1  \n",
      "                            aten::embedding         0.00%      19.000us         0.01%     586.000us     586.000us             1  \n",
      "                              aten::reshape         0.00%       2.000us         0.00%       4.000us       4.000us             1  \n",
      "                                 aten::view         0.00%       2.000us         0.00%       2.000us       2.000us             1  \n",
      "                         aten::index_select         0.01%     552.000us         0.01%     559.000us     559.000us             1  \n",
      "                                aten::empty         0.00%       2.000us         0.00%       2.000us       2.000us             1  \n",
      "                               aten::select         0.00%       5.000us         0.00%       5.000us       5.000us             1  \n",
      "                           aten::as_strided         0.00%       0.000us         0.00%       0.000us       0.000us             1  \n",
      "                               aten::select         0.00%       0.000us         0.00%       0.000us       0.000us             1  \n",
      "                           aten::as_strided         0.00%       0.000us         0.00%       0.000us       0.000us             1  \n",
      "                                 aten::view         0.00%       4.000us         0.00%       4.000us       4.000us             1  \n",
      "                                   aten::ne         0.00%       9.000us         0.00%       9.000us       9.000us             1  \n",
      "                                   aten::to         0.00%       2.000us         0.00%      15.000us      15.000us             1  \n",
      "                             aten::_to_copy         0.00%       6.000us         0.00%      13.000us      13.000us             1  \n",
      "                        aten::empty_strided         0.00%       1.000us         0.00%       1.000us       1.000us             1  \n",
      "                                aten::copy_         0.00%       6.000us         0.00%       6.000us       6.000us             1  \n",
      "                               aten::cumsum         0.00%       6.000us         0.00%       6.000us       6.000us             1  \n",
      "                                   aten::to         0.00%       0.000us         0.00%       0.000us       0.000us             1  \n",
      "                                  aten::mul         0.00%      29.000us         0.00%      29.000us      29.000us             1  \n",
      "                                  aten::add         0.00%       5.000us         0.00%       5.000us       5.000us             1  \n",
      "                            aten::embedding         0.00%       6.000us         0.00%     254.000us     254.000us             1  \n",
      "                              aten::reshape         0.00%       1.000us         0.00%       1.000us       1.000us             1  \n",
      "                                 aten::view         0.00%       0.000us         0.00%       0.000us       0.000us             1  \n",
      "                         aten::index_select         0.00%     245.000us         0.00%     247.000us     247.000us             1  \n",
      "                                aten::empty         0.00%       0.000us         0.00%       0.000us       0.000us             1  \n",
      "                               aten::select         0.00%       2.000us         0.00%       2.000us       2.000us             1  \n",
      "                           aten::as_strided         0.00%       0.000us         0.00%       0.000us       0.000us             1  \n",
      "                               aten::select         0.00%       0.000us         0.00%       0.000us       0.000us             1  \n",
      "                           aten::as_strided         0.00%       0.000us         0.00%       0.000us       0.000us             1  \n",
      "                                 aten::view         0.00%       0.000us         0.00%       0.000us       0.000us             1  \n",
      "                                  aten::add         0.01%     514.000us         0.01%     514.000us     514.000us             1  \n",
      "                           aten::layer_norm         0.00%      13.000us         0.01%     801.000us     801.000us             1  \n",
      "                    aten::native_layer_norm         0.01%     771.000us         0.01%     788.000us     788.000us             1  \n",
      "                                aten::empty         0.00%       8.000us         0.00%       8.000us       8.000us             1  \n",
      "                                aten::empty         0.00%       2.000us         0.00%       2.000us       2.000us             1  \n",
      "                                aten::empty         0.00%       0.000us         0.00%       0.000us       0.000us             1  \n",
      "                                 aten::view         0.00%       6.000us         0.00%       6.000us       6.000us             1  \n",
      "                                 aten::view         0.00%       1.000us         0.00%       1.000us       1.000us             1  \n",
      "                              aten::dropout         0.00%       1.000us         0.00%       1.000us       1.000us             1  \n",
      "                           aten::zeros_like         0.00%       6.000us         0.00%      11.000us      11.000us             1  \n",
      "                           aten::empty_like         0.00%       1.000us         0.00%       4.000us       4.000us             1  \n",
      "                        aten::empty_strided         0.00%       3.000us         0.00%       3.000us       3.000us             1  \n",
      "                                aten::zero_         0.00%       1.000us         0.00%       1.000us       1.000us             1  \n",
      "                         aten::masked_fill_         0.00%       9.000us         0.00%       9.000us       9.000us             1  \n",
      "                          aten::logical_not         0.00%       7.000us         0.00%      13.000us      13.000us             1  \n",
      "                                aten::empty         0.00%       1.000us         0.00%       1.000us       1.000us             1  \n",
      "                          aten::logical_not         0.00%       5.000us         0.00%       5.000us       5.000us             1  \n",
      "             aten::_nested_tensor_from_mask         0.00%      45.000us         0.08%       4.440ms       4.440ms             1  \n",
      "                                aten::zeros         0.00%       2.000us         0.00%       5.000us       5.000us             1  \n",
      "                                aten::empty         0.00%       3.000us         0.00%       3.000us       3.000us             1  \n",
      "                                aten::zero_         0.00%       0.000us         0.00%       0.000us       0.000us             1  \n",
      "                                  aten::cat         0.00%      12.000us         0.00%      22.000us      22.000us             1  \n",
      "                               aten::narrow         0.00%       4.000us         0.00%       9.000us       9.000us             1  \n",
      "                                aten::slice         0.00%       3.000us         0.00%       5.000us       5.000us             1  \n",
      "                           aten::as_strided         0.00%       2.000us         0.00%       2.000us       2.000us             1  \n",
      "                               aten::narrow         0.00%       1.000us         0.00%       1.000us       1.000us             1  \n",
      "                                aten::slice         0.00%       0.000us         0.00%       0.000us       0.000us             1  \n",
      "                           aten::as_strided         0.00%       0.000us         0.00%       0.000us       0.000us             1  \n",
      "                                   aten::to         0.00%       1.000us         0.00%      15.000us      15.000us             1  \n",
      "                             aten::_to_copy         0.00%       9.000us         0.00%      14.000us      14.000us             1  \n",
      "                        aten::empty_strided         0.00%       1.000us         0.00%       1.000us       1.000us             1  \n",
      "                                aten::copy_         0.00%       4.000us         0.00%       4.000us       4.000us             1  \n",
      "                               aten::argmin         0.00%      11.000us         0.00%      11.000us      11.000us             1  \n",
      "                           aten::as_strided         0.00%       0.000us         0.00%       0.000us       0.000us             1  \n",
      "                               aten::cumsum         0.00%       6.000us         0.00%      10.000us      10.000us             1  \n",
      "                                   aten::to         0.00%       0.000us         0.00%       4.000us       4.000us             1  \n",
      "                             aten::_to_copy         0.00%       2.000us         0.00%       4.000us       4.000us             1  \n",
      "                        aten::empty_strided         0.00%       1.000us         0.00%       1.000us       1.000us             1  \n",
      "                                aten::copy_         0.00%       1.000us         0.00%       1.000us       1.000us             1  \n",
      "                               aten::select         0.00%       3.000us         0.00%       3.000us       3.000us             1  \n",
      "                           aten::as_strided         0.00%       0.000us         0.00%       0.000us       0.000us             1  \n",
      "                                   aten::to         0.00%       0.000us         0.00%       0.000us       0.000us             1  \n",
      "                              aten::reshape         0.00%       9.000us         0.00%       9.000us       9.000us             1  \n",
      "                       aten::_reshape_alias         0.00%       0.000us         0.00%       0.000us       0.000us             1  \n",
      "                            aten::full_like         0.00%       5.000us         0.00%       9.000us       9.000us             1  \n",
      "                           aten::empty_like         0.00%       1.000us         0.00%       1.000us       1.000us             1  \n",
      "                        aten::empty_strided         0.00%       1.000us         0.00%       1.000us       1.000us             1  \n",
      "                                aten::fill_         0.00%       2.000us         0.00%       2.000us       2.000us             1  \n",
      "                                  aten::cat         0.00%       5.000us         0.00%       8.000us       8.000us             1  \n",
      "                               aten::narrow         0.00%       1.000us         0.00%       2.000us       2.000us             1  \n",
      "                                aten::slice         0.00%       1.000us         0.00%       1.000us       1.000us             1  \n",
      "                           aten::as_strided         0.00%       0.000us         0.00%       0.000us       0.000us             1  \n",
      "                               aten::narrow         0.00%       1.000us         0.00%       1.000us       1.000us             1  \n",
      "                                aten::slice         0.00%       0.000us         0.00%       0.000us       0.000us             1  \n",
      "                           aten::as_strided         0.00%       0.000us         0.00%       0.000us       0.000us             1  \n",
      "                                   aten::to         0.00%       0.000us         0.00%       0.000us       0.000us             1  \n",
      "                  aten::_nested_from_padded         0.01%     518.000us         0.07%       4.303ms       4.303ms             1  \n",
      "                               aten::unbind         0.00%       2.000us         0.00%       3.000us       3.000us             1  \n",
      "                               aten::select         0.00%       1.000us         0.00%       1.000us       1.000us             1  \n",
      "                           aten::as_strided         0.00%       0.000us         0.00%       0.000us       0.000us             1  \n",
      "                               aten::select         0.00%       0.000us         0.00%       0.000us       0.000us             1  \n",
      "                           aten::as_strided         0.00%       0.000us         0.00%       0.000us       0.000us             1  \n",
      "                               aten::select         0.00%       0.000us         0.00%       0.000us       0.000us             1  \n",
      "                           aten::as_strided         0.00%       0.000us         0.00%       0.000us       0.000us             1  \n",
      "                             aten::new_full         0.00%       4.000us         0.00%      18.000us      18.000us             1  \n",
      "                            aten::new_empty         0.00%       1.000us         0.00%       1.000us       1.000us             1  \n",
      "                                aten::empty         0.00%       0.000us         0.00%       0.000us       0.000us             1  \n",
      "                                aten::fill_         0.00%      13.000us         0.00%      13.000us      13.000us             1  \n",
      "                      aten::constant_pad_nd         0.00%      10.000us         0.00%     117.000us     117.000us             1  \n",
      "                                aten::empty         0.00%       7.000us         0.00%       7.000us       7.000us             1  \n",
      "-------------------------------------------  ------------  ------------  ------------  ------------  ------------  ------------  \n",
      "Self CPU time total: 5.836s\n",
      "\n"
     ]
    }
   ],
   "source": [
    "with torch.autograd.profiler.profile(use_cuda=True) as prof:\n",
    "    with torch.no_grad():\n",
    "        for i in range(INTERATION):\n",
    "            output = model(model_input)\n",
    "print(prof)"
   ]
  }
 ],
 "metadata": {
  "kernelspec": {
   "display_name": "venv-metal",
   "language": "python",
   "name": "python3"
  },
  "language_info": {
   "codemirror_mode": {
    "name": "ipython",
    "version": 3
   },
   "file_extension": ".py",
   "mimetype": "text/x-python",
   "name": "python",
   "nbconvert_exporter": "python",
   "pygments_lexer": "ipython3",
   "version": "3.9.6"
  }
 },
 "nbformat": 4,
 "nbformat_minor": 2
}
